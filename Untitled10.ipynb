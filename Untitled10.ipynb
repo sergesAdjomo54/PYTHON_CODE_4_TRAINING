{
 "cells": [
  {
   "cell_type": "code",
   "execution_count": 35,
   "metadata": {},
   "outputs": [],
   "source": [
    "import re\n",
    "\n",
    "def afficheRegexp(regexp, chaine):\n",
    "    match = re.findall(regexp, chaine)\n",
    "    if match != None:\n",
    "        print(match)\n"
   ]
  },
  {
   "cell_type": "code",
   "execution_count": 59,
   "metadata": {},
   "outputs": [
    {
     "name": "stdout",
     "output_type": "stream",
     "text": [
      "[]\n",
      "None\n"
     ]
    }
   ],
   "source": [
    "match = afficheRegexp('dabd+ abd','abd')\n",
    "r = []\n",
    "if r == match:\n",
    "    raise Exception(\"Non Trouvé\")\n",
    "else:\n",
    "    print(match)"
   ]
  },
  {
   "cell_type": "code",
   "execution_count": 45,
   "metadata": {},
   "outputs": [
    {
     "name": "stdout",
     "output_type": "stream",
     "text": [
      "[]\n",
      "reeeeeeeeeeee\n"
     ]
    }
   ],
   "source": [
    "try:\n",
    "    match = afficheRegexp('abd','abkkkd')\n",
    "    if match != None:\n",
    "        print(match)\n",
    "    else:\n",
    "        raise Exception(\"Non trouvé\", regex)\n",
    "                \n",
    "except Exception:\n",
    "    print(\"reeeeeeeeeeee\")"
   ]
  },
  {
   "cell_type": "code",
   "execution_count": 3,
   "metadata": {},
   "outputs": [
    {
     "data": {
      "text/plain": [
       "''"
      ]
     },
     "execution_count": 3,
     "metadata": {},
     "output_type": "execute_result"
    }
   ],
   "source": [
    "chaine = '23b'\n",
    "chaine2 = 'ab'\n",
    "a = ' '.join(re.findall(chaine, chaine2))\n",
    "a"
   ]
  },
  {
   "cell_type": "code",
   "execution_count": 78,
   "metadata": {},
   "outputs": [
    {
     "name": "stdout",
     "output_type": "stream",
     "text": [
      "[]\n"
     ]
    }
   ],
   "source": [
    "match = afficheRegexp('ab5d','abd')\n",
    "while match:\n",
    "    if match is []:\n",
    "        break\n",
    "        print(\"vide\")\n",
    "    else:\n",
    "        print(\"non vide\")\n",
    "    "
   ]
  },
  {
   "cell_type": "code",
   "execution_count": 80,
   "metadata": {},
   "outputs": [
    {
     "name": "stdout",
     "output_type": "stream",
     "text": [
      "odt\n",
      "['odt']\n"
     ]
    }
   ],
   "source": [
    "f = open('james.txt', 'r')\n",
    "rex = input()\n",
    "match = afficheRegexp(rex, f.read())"
   ]
  },
  {
   "cell_type": "markdown",
   "metadata": {},
   "source": [
    "principe\n",
    "\n",
    "question 1:\n",
    "créer une fonction appelée afficheRegexp(regexp, chaine) après avoir importer la bibliothe re\n",
    "-> on va utiliser le module re.findall() de la biblio re qui retourne 'None' pour non correspondance et une liste en cas de correspondance\n",
    "-> si le resultat est None on leve une exception\n",
    "-> si le resultat est une liste on l'affiche le contenu\n",
    "-> mettre cette fonction dans un bloc try except\n",
    "-> capturer l'exception en affichant le message."
   ]
  },
  {
   "cell_type": "code",
   "execution_count": null,
   "metadata": {},
   "outputs": [],
   "source": [
    "import errno\n",
    "\n",
    "def essaiOuvrir(nom_fichier):\n",
    "    try:\n",
    "        error = None\n",
    "        message = 'fichier non trouvé'\n",
    "        f = open(nom_fichier)\n",
    "    except IOError:\n",
    "        if error == errno.ENOENT:\n",
    "            print(\"Entrez un nouveau nom de fichier!\")\n",
    "        elif error == errno.EPERM:\n",
    "            print(\"Changez les permission de votre fichier!\")\n",
    "        else:\n",
    "            print(message)"
   ]
  },
  {
   "cell_type": "code",
   "execution_count": null,
   "metadata": {},
   "outputs": [],
   "source": []
  },
  {
   "cell_type": "code",
   "execution_count": null,
   "metadata": {},
   "outputs": [],
   "source": []
  },
  {
   "cell_type": "code",
   "execution_count": null,
   "metadata": {},
   "outputs": [],
   "source": []
  }
 ],
 "metadata": {
  "kernelspec": {
   "display_name": "Python 3",
   "language": "python",
   "name": "python3"
  },
  "language_info": {
   "codemirror_mode": {
    "name": "ipython",
    "version": 3
   },
   "file_extension": ".py",
   "mimetype": "text/x-python",
   "name": "python",
   "nbconvert_exporter": "python",
   "pygments_lexer": "ipython3",
   "version": "3.7.6"
  }
 },
 "nbformat": 4,
 "nbformat_minor": 4
}
