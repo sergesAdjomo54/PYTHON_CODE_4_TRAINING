{
 "cells": [
  {
   "cell_type": "code",
   "execution_count": 36,
   "metadata": {},
   "outputs": [
    {
     "name": "stdout",
     "output_type": "stream",
     "text": [
      "bonjour\\njames\n",
      "bonjour\n",
      "james\t ODT PUNCHLINE\n"
     ]
    }
   ],
   "source": [
    "#REGULAR EXPRESSION\n",
    "r = r'bonjour\\njames'\n",
    "print(r)\n",
    "a = 'bonjour\\njames\\t ODT PUNCHLINE'\n",
    "print(a)"
   ]
  },
  {
   "cell_type": "code",
   "execution_count": 5,
   "metadata": {},
   "outputs": [],
   "source": [
    "import re\n",
    "\n",
    "re.search('n', '\\n') #recherche 'n' dans '\\n' mais ne trouve pas\n",
    "                     #car '\\n' est un caractère special"
   ]
  },
  {
   "cell_type": "code",
   "execution_count": 9,
   "metadata": {},
   "outputs": [
    {
     "name": "stdout",
     "output_type": "stream",
     "text": [
      "<re.Match object; span=(1, 2), match='n'> <re.Match object; span=(1, 2), match='n'>\n"
     ]
    }
   ],
   "source": [
    "import re\n",
    "\n",
    "a = re.search('n', '\\\\n') #ici on trouve le caractere\n",
    "#car le 1er slach annule l'aspect spécial du 2e\n",
    "#ou encore\n",
    "b = re.search('n', r'\\n')\n",
    "\n",
    "print(a,b)"
   ]
  },
  {
   "cell_type": "code",
   "execution_count": 10,
   "metadata": {},
   "outputs": [
    {
     "data": {
      "text/plain": [
       "<re.Match object; span=(0, 1), match='\\n'>"
      ]
     },
     "execution_count": 10,
     "metadata": {},
     "output_type": "execute_result"
    }
   ],
   "source": [
    "#formulation re.search('regular ex', 'String', 'flags')\n",
    "#il es impossible de transformer un 'regular ex' en row String\n",
    "re.search(r'\\n', '\\n\\n')"
   ]
  },
  {
   "cell_type": "code",
   "execution_count": 20,
   "metadata": {},
   "outputs": [
    {
     "name": "stdout",
     "output_type": "stream",
     "text": [
      "None False True\n"
     ]
    }
   ],
   "source": [
    "#MATCH AND SEARCH\n",
    "#formulation re.match(pattern, string, flags)\n",
    "# match est un objet de search qui donne l'indice et la position de l'élément rechercher\n",
    "a = re.match('c', 'abcdef')# recherche l'element uniquement en début de chaine\n",
    "#return none\n",
    "b = bool(re.match(\"c\", \"abcdef\"))\n",
    "c = bool(re.match(\"a\", \"abcdef\"))\n",
    "\n",
    "print(a,b,c)"
   ]
  },
  {
   "cell_type": "code",
   "execution_count": 22,
   "metadata": {},
   "outputs": [
    {
     "name": "stdout",
     "output_type": "stream",
     "text": [
      "<re.Match object; span=(2, 3), match='c'> <re.Match object; span=(2, 3), match='c'>\n",
      "afficher l'élément trouvé c\n"
     ]
    }
   ],
   "source": [
    "a = re.search(\"c\", \"abcdef\") #l'élément est trouvée a la ligne 2 colone 3\n",
    "#search is only for the firt occurence\n",
    "b = re.search(\"c\", \"abcdefc\")\n",
    "\n",
    "print(a,b)\n",
    "print(\"afficher l'élément trouvé\",a.group())"
   ]
  },
  {
   "cell_type": "code",
   "execution_count": 29,
   "metadata": {},
   "outputs": [
    {
     "data": {
      "text/plain": [
       "'abcdefnc  abcd'"
      ]
     },
     "execution_count": 29,
     "metadata": {},
     "output_type": "execute_result"
    }
   ],
   "source": [
    "re.search(\"n.+\", \"abcdefnc  abcd\").group()\n",
    "#afficher le reste a partir de n si n existe"
   ]
  },
  {
   "cell_type": "code",
   "execution_count": 32,
   "metadata": {},
   "outputs": [
    {
     "name": "stdout",
     "output_type": "stream",
     "text": [
      "6 7\n"
     ]
    }
   ],
   "source": [
    "a = re.search(\"c\", \"abdef\\nc\").start()\n",
    "b = re.search(\"c\", \"abdef\\nc\").end()\n",
    "print(a,b)"
   ]
  },
  {
   "cell_type": "code",
   "execution_count": 33,
   "metadata": {},
   "outputs": [
    {
     "data": {
      "text/plain": [
       "<re.Match object; span=(0, 1), match='b'>"
      ]
     },
     "execution_count": 33,
     "metadata": {},
     "output_type": "execute_result"
    }
   ],
   "source": [
    "#on choisis n ou a ou b\n",
    "re.search('n|a|b', \"bcdenc abcda\")"
   ]
  },
  {
   "cell_type": "code",
   "execution_count": null,
   "metadata": {},
   "outputs": [],
   "source": []
  }
 ],
 "metadata": {
  "kernelspec": {
   "display_name": "Python 3",
   "language": "python",
   "name": "python3"
  },
  "language_info": {
   "codemirror_mode": {
    "name": "ipython",
    "version": 3
   },
   "file_extension": ".py",
   "mimetype": "text/x-python",
   "name": "python",
   "nbconvert_exporter": "python",
   "pygments_lexer": "ipython3",
   "version": "3.7.6"
  }
 },
 "nbformat": 4,
 "nbformat_minor": 4
}
