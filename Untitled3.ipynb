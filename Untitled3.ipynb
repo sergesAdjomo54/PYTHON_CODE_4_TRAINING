{
 "cells": [
  {
   "cell_type": "code",
   "execution_count": 1,
   "metadata": {},
   "outputs": [],
   "source": [
    "from tkinter import *\n",
    "import os\n",
    "from PIL import Image, ImageTk\n",
    "import sqlite3\n",
    "\n",
    "root = Tk()\n",
    "root.title(\"Adress Book\")\n",
    "root.geometry(\"550x480\")\n",
    "\n",
    "lbltitle = Label(root, text=\"Adress Book\", font=(\"Arial\"), bg = \"violet\", fg =\"white\" )\n",
    "lbltitle.place(x = 0, y = 0, width = 200)\n",
    "    "
   ]
  }
 ],
 "metadata": {
  "kernelspec": {
   "display_name": "Python 3",
   "language": "python",
   "name": "python3"
  },
  "language_info": {
   "codemirror_mode": {
    "name": "ipython",
    "version": 3
   },
   "file_extension": ".py",
   "mimetype": "text/x-python",
   "name": "python",
   "nbconvert_exporter": "python",
   "pygments_lexer": "ipython3",
   "version": "3.7.6"
  }
 },
 "nbformat": 4,
 "nbformat_minor": 4
}
