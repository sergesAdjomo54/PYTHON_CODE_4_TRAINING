{
 "cells": [
  {
   "cell_type": "code",
   "execution_count": 56,
   "metadata": {},
   "outputs": [
    {
     "data": {
      "text/plain": [
       "array([[5, 0, 3, 3, 7],\n",
       "       [9, 3, 5, 2, 4],\n",
       "       [7, 6, 8, 8, 1],\n",
       "       [6, 7, 7, 8, 1],\n",
       "       [5, 9, 8, 9, 4]])"
      ]
     },
     "execution_count": 56,
     "metadata": {},
     "output_type": "execute_result"
    }
   ],
   "source": [
    "import numpy as np\n",
    "\n",
    "np.random.seed(0)\n",
    "a = np.random.randint(0, 10, [5, 5])\n",
    "a"
   ]
  },
  {
   "cell_type": "markdown",
   "metadata": {},
   "source": [
    "\n",
    "# Methode ndarray\n"
   ]
  },
  {
   "cell_type": "code",
   "execution_count": null,
   "metadata": {},
   "outputs": [],
   "source": []
  },
  {
   "cell_type": "code",
   "execution_count": 27,
   "metadata": {},
   "outputs": [
    {
     "data": {
      "text/plain": [
       "array([26, 27])"
      ]
     },
     "execution_count": 27,
     "metadata": {},
     "output_type": "execute_result"
    }
   ],
   "source": [
    "a.sum(axis=1) #la somme suivant l'axe des lignes"
   ]
  },
  {
   "cell_type": "code",
   "execution_count": 57,
   "metadata": {},
   "outputs": [
    {
     "name": "stdout",
     "output_type": "stream",
     "text": [
      "[  5   5   8  11  18  27  30  35  37  41  48  54  62  70  71  77  84  91\n",
      "  99 100 105 114 122 131 135]\n",
      "0\n",
      "[5 0 0 0 0 0 0 0 0 0 0 0 0 0 0 0 0 0 0 0 0 0 0 0 0]\n",
      "0\n",
      "9\n"
     ]
    }
   ],
   "source": [
    "print(a.cumsum()) #ici on fait la somme cummulée \n",
    "print(a.prod())#ici c'est le produit on peux aussi le faire suivant les axes\n",
    "print(a.cumprod())\n",
    "print(a.min())\n",
    "print(a.max())"
   ]
  },
  {
   "cell_type": "code",
   "execution_count": 30,
   "metadata": {},
   "outputs": [
    {
     "name": "stdout",
     "output_type": "stream",
     "text": [
      "[0 0 0 0 1]\n"
     ]
    }
   ],
   "source": [
    "#pour avoir la position du minimum (index) dans notre axe '0'\n",
    "print(a.argmin(axis = 0))"
   ]
  },
  {
   "cell_type": "code",
   "execution_count": 58,
   "metadata": {},
   "outputs": [
    {
     "name": "stdout",
     "output_type": "stream",
     "text": [
      "[[5 0 3 3 7]\n",
      " [9 3 5 2 4]\n",
      " [7 6 8 8 1]\n",
      " [6 7 7 8 1]\n",
      " [5 9 8 9 4]]\n",
      "\n",
      "[[0 0 0 1 2]\n",
      " [4 1 1 0 3]\n",
      " [3 2 3 2 1]\n",
      " [2 3 2 3 4]\n",
      " [1 4 4 4 0]]\n"
     ]
    }
   ],
   "source": [
    "#print(a.sort())#ici on tri simplement le table/ on peut aussi le faire suivant un axe(ligne ou colone)\n",
    "print(a)\n",
    "print()\n",
    "print(a.argsort(axis = 0))#celui si tri le tableau et affiche les arguments correspondant aux éléments triés"
   ]
  },
  {
   "cell_type": "code",
   "execution_count": 59,
   "metadata": {},
   "outputs": [
    {
     "name": "stdout",
     "output_type": "stream",
     "text": [
      "[[1.48413159e+02 1.00000000e+00 2.00855369e+01 2.00855369e+01\n",
      "  1.09663316e+03]\n",
      " [8.10308393e+03 2.00855369e+01 1.48413159e+02 7.38905610e+00\n",
      "  5.45981500e+01]\n",
      " [1.09663316e+03 4.03428793e+02 2.98095799e+03 2.98095799e+03\n",
      "  2.71828183e+00]\n",
      " [4.03428793e+02 1.09663316e+03 1.09663316e+03 2.98095799e+03\n",
      "  2.71828183e+00]\n",
      " [1.48413159e+02 8.10308393e+03 2.98095799e+03 8.10308393e+03\n",
      "  5.45981500e+01]]\n",
      "\n",
      "[[1.60943791       -inf 1.09861229 1.09861229 1.94591015]\n",
      " [2.19722458 1.09861229 1.60943791 0.69314718 1.38629436]\n",
      " [1.94591015 1.79175947 2.07944154 2.07944154 0.        ]\n",
      " [1.79175947 1.94591015 1.94591015 2.07944154 0.        ]\n",
      " [1.60943791 2.19722458 2.07944154 2.19722458 1.38629436]]\n",
      "\n",
      "[[ 0.28366219  1.         -0.9899925  -0.9899925   0.75390225]\n",
      " [-0.91113026 -0.9899925   0.28366219 -0.41614684 -0.65364362]\n",
      " [ 0.75390225  0.96017029 -0.14550003 -0.14550003  0.54030231]\n",
      " [ 0.96017029  0.75390225  0.75390225 -0.14550003  0.54030231]\n",
      " [ 0.28366219 -0.91113026 -0.14550003 -0.91113026 -0.65364362]]\n",
      "\n",
      "[[7.42099485e+01 1.00000000e+00 1.00676620e+01 1.00676620e+01\n",
      "  5.48317035e+02]\n",
      " [4.05154203e+03 1.00676620e+01 7.42099485e+01 3.76219569e+00\n",
      "  2.73082328e+01]\n",
      " [5.48317035e+02 2.01715636e+02 1.49047916e+03 1.49047916e+03\n",
      "  1.54308063e+00]\n",
      " [2.01715636e+02 5.48317035e+02 5.48317035e+02 1.49047916e+03\n",
      "  1.54308063e+00]\n",
      " [7.42099485e+01 4.05154203e+03 1.49047916e+03 4.05154203e+03\n",
      "  2.73082328e+01]]\n",
      "\n",
      "[[-0.95892427  0.          0.14112001  0.14112001  0.6569866 ]\n",
      " [ 0.41211849  0.14112001 -0.95892427  0.90929743 -0.7568025 ]\n",
      " [ 0.6569866  -0.2794155   0.98935825  0.98935825  0.84147098]\n",
      " [-0.2794155   0.6569866   0.6569866   0.98935825  0.84147098]\n",
      " [-0.95892427  0.41211849  0.98935825  0.41211849 -0.7568025 ]]\n",
      "\n",
      "[[7.42032106e+01 0.00000000e+00 1.00178749e+01 1.00178749e+01\n",
      "  5.48316123e+02]\n",
      " [4.05154190e+03 1.00178749e+01 7.42032106e+01 3.62686041e+00\n",
      "  2.72899172e+01]\n",
      " [5.48316123e+02 2.01713157e+02 1.49047883e+03 1.49047883e+03\n",
      "  1.17520119e+00]\n",
      " [2.01713157e+02 5.48316123e+02 5.48316123e+02 1.49047883e+03\n",
      "  1.17520119e+00]\n",
      " [7.42032106e+01 4.05154190e+03 1.49047883e+03 4.05154190e+03\n",
      "  2.72899172e+01]]\n"
     ]
    },
    {
     "name": "stderr",
     "output_type": "stream",
     "text": [
      "C:\\Users\\ANGO\\anaconda3\\lib\\site-packages\\ipykernel_launcher.py:3: RuntimeWarning: divide by zero encountered in log\n",
      "  This is separate from the ipykernel package so we can avoid doing imports until\n"
     ]
    }
   ],
   "source": [
    "print(np.exp(a)) #exponentiel de chaque nombre du tableu\n",
    "print()\n",
    "print(np.log(a))#on obtient une erreur car log(0) n'existe pas...\n",
    "print()\n",
    "print(np.cos(a))\n",
    "print()\n",
    "print(np.cosh(a))\n",
    "print()\n",
    "print(np.sin(a))\n",
    "print()\n",
    "print(np.sinh(a))#ici on affiche le sinus hyperbolique\n"
   ]
  },
  {
   "cell_type": "markdown",
   "metadata": {},
   "source": [
    "# STATISTIQUES "
   ]
  },
  {
   "cell_type": "code",
   "execution_count": 60,
   "metadata": {},
   "outputs": [
    {
     "name": "stdout",
     "output_type": "stream",
     "text": [
      "[[5 0 3 3 7]\n",
      " [9 3 5 2 4]\n",
      " [7 6 8 8 1]\n",
      " [6 7 7 8 1]\n",
      " [5 9 8 9 4]]\n"
     ]
    }
   ],
   "source": [
    "print(a)"
   ]
  },
  {
   "cell_type": "code",
   "execution_count": 61,
   "metadata": {},
   "outputs": [
    {
     "data": {
      "text/plain": [
       "0"
      ]
     },
     "execution_count": 61,
     "metadata": {},
     "output_type": "execute_result"
    }
   ],
   "source": [
    "a.min()"
   ]
  },
  {
   "cell_type": "code",
   "execution_count": 62,
   "metadata": {},
   "outputs": [
    {
     "data": {
      "text/plain": [
       "5.4"
      ]
     },
     "execution_count": 62,
     "metadata": {},
     "output_type": "execute_result"
    }
   ],
   "source": [
    "a.mean() # La moyenne du tableau"
   ]
  },
  {
   "cell_type": "code",
   "execution_count": 63,
   "metadata": {},
   "outputs": [
    {
     "data": {
      "text/plain": [
       "2.6683328128252666"
      ]
     },
     "execution_count": 63,
     "metadata": {},
     "output_type": "execute_result"
    }
   ],
   "source": [
    "a.std() #L'écartype du tableau"
   ]
  },
  {
   "cell_type": "code",
   "execution_count": 64,
   "metadata": {},
   "outputs": [
    {
     "data": {
      "text/plain": [
       "7.12"
      ]
     },
     "execution_count": 64,
     "metadata": {},
     "output_type": "execute_result"
    }
   ],
   "source": [
    "a.var()#La variance du tableau"
   ]
  },
  {
   "cell_type": "code",
   "execution_count": 65,
   "metadata": {},
   "outputs": [
    {
     "name": "stdout",
     "output_type": "stream",
     "text": [
      "[[ 1.          0.39741307 -0.59190035 -0.77390599 -0.89934617]\n",
      " [ 0.39741307  1.          0.09521171 -0.11337365 -0.59181844]\n",
      " [-0.59190035  0.09521171  1.          0.9579589   0.6947088 ]\n",
      " [-0.77390599 -0.11337365  0.9579589   1.          0.84515425]\n",
      " [-0.89934617 -0.59181844  0.6947088   0.84515425  1.        ]]\n",
      "\n",
      "0.39741306906256163\n"
     ]
    }
   ],
   "source": [
    "#MATRICE DE CORELATION\n",
    "print(np.corrcoef(a))\n",
    "print()\n",
    "print(np.corrcoef(a)[0, 1]) #on utilise l'indexing pour obtenir l'elt ligne '0' col '1'\n",
    "\n"
   ]
  },
  {
   "cell_type": "code",
   "execution_count": 73,
   "metadata": {},
   "outputs": [
    {
     "name": "stdout",
     "output_type": "stream",
     "text": [
      "[[5 0 3 3 7]\n",
      " [9 3 5 2 4]\n",
      " [7 6 8 8 1]\n",
      " [6 7 7 8 1]\n",
      " [5 9 8 9 4]]\n",
      "\n",
      "[0 1 2 3 4 5 6 7 8 9]\n",
      "(array([0, 1, 2, 3, 4, 5, 6, 7, 8, 9]), array([1, 2, 1, 3, 2, 3, 2, 4, 4, 3], dtype=int64))\n",
      "\n",
      "\n",
      "[0 2 1 4 6 3 5 9 7 8]\n",
      "[0 2 1 4 6 3 5 9 7 8]\n",
      "\n",
      " \n",
      " dfs-----n -------------\n",
      "valuer 0 occurence 1\n",
      "valuer 2 occurence 1\n",
      "valuer 1 occurence 2\n",
      "valuer 4 occurence 2\n",
      "valuer 6 occurence 2\n",
      "valuer 3 occurence 3\n",
      "valuer 5 occurence 3\n",
      "valuer 9 occurence 3\n",
      "valuer 7 occurence 4\n",
      "valuer 8 occurence 4\n"
     ]
    }
   ],
   "source": [
    "#Trouver le nombre d'OCCURENCE d'un élement dans un tableau\n",
    "#on obtient 2 tableaux \n",
    "#le premier ressence tous les nombres présents dans le tableau en faisant(np.unique(a))\n",
    "#le second ressence le nombre d'occurence de chaque élément en ajoutant(np.unique(a, return_counts = True))\n",
    "print(a)\n",
    "print()\n",
    "print(np.unique(a))\n",
    "print(np.unique(a, return_counts = True))\n",
    "#on va crée 2 tableau values et counts qui vont recupéré les 2 tableaux crée\n",
    "print(\"\\n\")\n",
    "values, counts = np.unique(a, return_counts = True)\n",
    "#on va trié le tableau counts\n",
    "print(counts.argsort())\n",
    "print(values[counts.argsort()])\n",
    "print(\"\\n \\n dfs-----n -------------\")\n",
    "\n",
    "for i, j in zip(values[counts.argsort()], counts[counts.argsort()]):\n",
    "    print(f'valuer {i} occurence {j}')\n"
   ]
  },
  {
   "cell_type": "markdown",
   "metadata": {},
   "source": [
    "# NAN Corrections"
   ]
  },
  {
   "cell_type": "code",
   "execution_count": 90,
   "metadata": {},
   "outputs": [
    {
     "name": "stdout",
     "output_type": "stream",
     "text": [
      "[[ 1.73272119  0.68450111         nan  0.14206181  1.51999486]\n",
      " [ 1.71958931  0.92950511  0.58222459 -2.09460307  0.12372191]\n",
      " [-0.13010695  0.09395323  0.94304609 -2.73967717 -0.56931205]\n",
      " [ 0.26990435 -0.46684555 -1.41690611  0.86896349  0.27687191]\n",
      " [-0.97110457  0.3148172   0.82158571         nan  0.8005648 ]]\n",
      "\n",
      "nan\n",
      "1.1050117542119606\n",
      "0.1493683127375555\n",
      "1.2210509769465943\n",
      "\n",
      "[[False False  True False False]\n",
      " [False False False False False]\n",
      " [False False False False False]\n",
      " [False False False False False]\n",
      " [False False False  True False]]\n",
      "le nombre de nan est:  2\n",
      "le pourcentage de nan est:  0.08\n",
      "[[False False False False False]\n",
      " [False False False False False]\n",
      " [False False False False False]\n",
      " [False False False False False]\n",
      " [False False False False False]]\n"
     ]
    }
   ],
   "source": [
    "#NAN = not a number lors des calculs statistiques il pose pb car il n'est pas un nombre\n",
    "b = np.random.randn(5, 5)\n",
    "\n",
    "b[0, 2] = np.nan\n",
    "b[4, 3] = np.nan\n",
    "\n",
    "print(b)\n",
    "print()\n",
    "print(b.mean())\n",
    "\n",
    "# On peut alors resoudre le problème en calculant sans prendre en compte le NAN\n",
    "\n",
    "print(np.nanstd(b))\n",
    "print(np.nanmean(b))\n",
    "print(np.nanvar(b))\n",
    "print()\n",
    "\n",
    "# On peut également compter le nombre de NAN présent dans un tableau\n",
    "\n",
    "print(np.isnan(b))\n",
    "print(\"le nombre de nan est: \", np.isnan(b).sum())\n",
    "# On peut Trouver le pourcentage de nan présent dans notre tableau\n",
    "print(\"le pourcentage de nan est: \", np.isnan(b).sum()/b.size)\n",
    "\n",
    "#On peut essayer de remplacer tous les nan présent dans notre tableau par des valeurs souhaité\n",
    "\n",
    "b[np.isnan(b)] = 0\n",
    "print(np.isnan(b))\n",
    "\n",
    "\n"
   ]
  },
  {
   "cell_type": "markdown",
   "metadata": {},
   "source": [
    "# Algebre Linéaire"
   ]
  },
  {
   "cell_type": "code",
   "execution_count": 107,
   "metadata": {},
   "outputs": [
    {
     "name": "stdout",
     "output_type": "stream",
     "text": [
      "a \n",
      " [[1. 1. 1.]\n",
      " [1. 1. 1.]]\n",
      " b \n",
      " [[1. 1.]\n",
      " [1. 1.]\n",
      " [1. 1.]]\n",
      "\n",
      "(3, 2)\n",
      "\n",
      "a X b\n",
      " [[3. 3.]\n",
      " [3. 3.]]\n",
      "\n",
      "b X a\n",
      " [[2. 2. 2.]\n",
      " [2. 2. 2.]\n",
      " [2. 2. 2.]]\n"
     ]
    }
   ],
   "source": [
    "a = np.ones((2, 3))\n",
    "b = np.ones((3, 2))\n",
    "\n",
    "print(f'a \\n {a}\\n b \\n {b}')\n",
    "print()\n",
    "\n",
    "#On peut trouve la Transposée de a\n",
    "print(a.T.shape)\n",
    "print()\n",
    "#On peut faire le produit matritielle de a et b\n",
    "print(\"a X b\\n\",a.dot(b))\n",
    "print()\n",
    "print(\"b X a\\n\",b.dot(a))\n"
   ]
  },
  {
   "cell_type": "code",
   "execution_count": 110,
   "metadata": {},
   "outputs": [
    {
     "name": "stdout",
     "output_type": "stream",
     "text": [
      "[[7 7 6]\n",
      " [2 6 0]\n",
      " [2 7 7]]\n"
     ]
    }
   ],
   "source": [
    "#Obtenons un matrice carée aléatoire de lignes et colones\n",
    "\n",
    "a = np.random.randint(0, 10, [3, 3])\n",
    "print(a)"
   ]
  },
  {
   "cell_type": "code",
   "execution_count": 118,
   "metadata": {},
   "outputs": [
    {
     "name": "stdout",
     "output_type": "stream",
     "text": [
      "207.99999999999997\n",
      "\n",
      "[[ 0.20192308 -0.03365385 -0.17307692]\n",
      " [-0.06730769  0.17788462  0.05769231]\n",
      " [ 0.00961538 -0.16826923  0.13461538]]\n",
      "\n",
      "Valeurs propres et veucteurs propres\n",
      "(array([13. +0.j        ,  3.5+1.93649167j,  3.5-1.93649167j]), array([[-8.09490512e-01+0.j        , -7.07106781e-01+0.j        ,\n",
      "        -7.07106781e-01-0.j        ],\n",
      "       [-2.31283003e-01+0.j        ,  3.53553391e-01+0.27386128j,\n",
      "         3.53553391e-01-0.27386128j],\n",
      "       [-5.39660341e-01+0.j        ,  4.44089210e-16-0.54772256j,\n",
      "         4.44089210e-16+0.54772256j]]))\n"
     ]
    }
   ],
   "source": [
    "#On peut calculer le determinant de A\n",
    "print(np.linalg.det(a))\n",
    "#Vu que notre det n'est pas égale a zéro on peut l'inverser\n",
    "print()\n",
    "print(np.linalg.inv(a))\n",
    "\n",
    "#On peut essayer d'obtenir les valeurs propres et les vecteur propres\n",
    "#on obtient 2 matrices 1ere les valeures propres 2eme les vecteurs propres\n",
    "print(\"\\nValeurs propres et veucteurs propres\")\n",
    "print(np.linalg.eig(a))"
   ]
  },
  {
   "cell_type": "code",
   "execution_count": null,
   "metadata": {},
   "outputs": [],
   "source": []
  }
 ],
 "metadata": {
  "kernelspec": {
   "display_name": "Python 3",
   "language": "python",
   "name": "python3"
  },
  "language_info": {
   "codemirror_mode": {
    "name": "ipython",
    "version": 3
   },
   "file_extension": ".py",
   "mimetype": "text/x-python",
   "name": "python",
   "nbconvert_exporter": "python",
   "pygments_lexer": "ipython3",
   "version": "3.7.6"
  }
 },
 "nbformat": 4,
 "nbformat_minor": 4
}
