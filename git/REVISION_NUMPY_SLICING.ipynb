{
 "cells": [
  {
   "cell_type": "code",
   "execution_count": 24,
   "metadata": {},
   "outputs": [
    {
     "name": "stdout",
     "output_type": "stream",
     "text": [
      "[[0 1]\n",
      " [2 3]\n",
      " [4 5]]\n",
      "\n",
      "[[ 6  7]\n",
      " [ 8  9]\n",
      " [10 11]]\n",
      "vertical stack\n",
      "[[ 0  1]\n",
      " [ 2  3]\n",
      " [ 4  5]\n",
      " [ 6  7]\n",
      " [ 8  9]\n",
      " [10 11]]\n",
      "horizontal stack\n",
      "[[ 0  1  6  7]\n",
      " [ 2  3  8  9]\n",
      " [ 4  5 10 11]]\n",
      "concatenate\n",
      "[[ 0  1]\n",
      " [ 2  3]\n",
      " [ 4  5]\n",
      " [ 6  7]\n",
      " [ 8  9]\n",
      " [10 11]]\n"
     ]
    }
   ],
   "source": [
    "a = np.arange(6).reshape(3,2)\n",
    "b = np.arange(6, 12).reshape(3,2)\n",
    "\n",
    "print(a)\n",
    "print()\n",
    "print(b)\n",
    "\n",
    "c = np.vstack((a,b))\n",
    "\n",
    "d = np.hstack((a,b))\n",
    "print(\"vertical stack\")\n",
    "print(c)\n",
    "print(\"horizontal stack\")\n",
    "print(d)\n",
    "print(\"concatenate\")\n",
    "\n",
    "print(np.concatenate((a,b), axis=0))"
   ]
  },
  {
   "cell_type": "code",
   "execution_count": 56,
   "metadata": {},
   "outputs": [
    {
     "name": "stdout",
     "output_type": "stream",
     "text": [
      "---------------Decoupage horizontale en fonction du nombre de colones------------\n",
      "[[ 0  1  2  3  4  5  6  7  8  9 10 11 12 13 14]\n",
      " [15 16 17 18 19 20 21 22 23 24 25 26 27 28 29]]\n",
      "\n",
      " [[ 0  1  2  3  4]\n",
      " [15 16 17 18 19]]\n",
      "\n",
      " [[ 5  6  7  8  9]\n",
      " [20 21 22 23 24]]\n",
      "\n",
      " [[10 11 12 13 14]\n",
      " [25 26 27 28 29]]\n",
      "\n",
      "---------------Decoupage verticale en fonction du nombre de lignes------------\n",
      "[[ 0  1  2  3  4  5  6  7  8  9 10 11 12 13 14]\n",
      " [15 16 17 18 19 20 21 22 23 24 25 26 27 28 29]]\n",
      "\n",
      " [[ 0  1  2  3  4  5  6  7  8  9 10 11 12 13 14]]\n",
      "\n",
      " [[15 16 17 18 19 20 21 22 23 24 25 26 27 28 29]]\n"
     ]
    }
   ],
   "source": [
    "a = np.arange(30).reshape(2,15)\n",
    "\n",
    "result = np.hsplit(a, 3)#Decoupage horizontale en fonction du nombre de colones\n",
    "print(\"---------------Decoupage horizontale en fonction du nombre de colones------------\")\n",
    "print(a)\n",
    "print(\"\\n\",result[0])\n",
    "print(\"\\n\",result[1])\n",
    "print(\"\\n\",result[2])\n",
    "\n",
    "\n",
    "result = np.vsplit(a, 2)#Decoupage verticale en fonction du nombre de lignes\n",
    "print(\"\\n---------------Decoupage verticale en fonction du nombre de lignes------------\")\n",
    "print(a)\n",
    "print(\"\\n\",result[0])\n",
    "print(\"\\n\",result[1])\n",
    "#print(\"\\n\",result[2])"
   ]
  },
  {
   "cell_type": "code",
   "execution_count": 73,
   "metadata": {},
   "outputs": [
    {
     "name": "stdout",
     "output_type": "stream",
     "text": [
      "[[ 0  1  2  3]\n",
      " [ 4  5  6  7]\n",
      " [ 8  9 10 11]]\n",
      "\n",
      "[[False False False False]\n",
      " [False  True  True  True]\n",
      " [ True  True  True  True]]\n",
      "\n",
      "[ 5  6  7  8  9 10 11]\n"
     ]
    }
   ],
   "source": [
    "a = np.arange(12).reshape(3,4)\n",
    "b = a  > 4\n",
    "print(a)\n",
    "print()\n",
    "print(b)\n",
    "print()\n",
    "print(a[b])#affiche tous les éléments qui sont True dans le masque b\n"
   ]
  },
  {
   "cell_type": "code",
   "execution_count": 80,
   "metadata": {},
   "outputs": [
    {
     "name": "stdout",
     "output_type": "stream",
     "text": [
      "[[False False False False]\n",
      " [False  True  True  True]\n",
      " [ True  True  True  True]]\n",
      "\n",
      "[[ True  True  True  True]\n",
      " [False False False False]\n",
      " [False False False False]]\n",
      "\n",
      "[0 1 2 3]\n",
      "\n",
      "[ 5  6  7  8  9 10 11]\n"
     ]
    }
   ],
   "source": [
    "a = np.arange(12).reshape(3,4)\n",
    "b = a  > 4\n",
    "print(b)\n",
    "c = a < 4\n",
    "print()\n",
    "print(c)\n",
    "print()\n",
    "print(a[a<4])\n",
    "print()\n",
    "print(a[a>4])"
   ]
  },
  {
   "cell_type": "code",
   "execution_count": null,
   "metadata": {},
   "outputs": [],
   "source": []
  },
  {
   "cell_type": "code",
   "execution_count": null,
   "metadata": {},
   "outputs": [],
   "source": []
  }
 ],
 "metadata": {
  "kernelspec": {
   "display_name": "Python 3",
   "language": "python",
   "name": "python3"
  },
  "language_info": {
   "codemirror_mode": {
    "name": "ipython",
    "version": 3
   },
   "file_extension": ".py",
   "mimetype": "text/x-python",
   "name": "python",
   "nbconvert_exporter": "python",
   "pygments_lexer": "ipython3",
   "version": "3.7.6"
  }
 },
 "nbformat": 4,
 "nbformat_minor": 4
}
