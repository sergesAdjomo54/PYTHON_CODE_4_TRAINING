{
 "cells": [
  {
   "cell_type": "code",
   "execution_count": 51,
   "metadata": {},
   "outputs": [],
   "source": [
    "import numpy as np\n",
    "import time\n",
    "import sys\n",
    "a = np.array([1,2,3])"
   ]
  },
  {
   "cell_type": "code",
   "execution_count": 6,
   "metadata": {},
   "outputs": [
    {
     "data": {
      "text/plain": [
       "1"
      ]
     },
     "execution_count": 6,
     "metadata": {},
     "output_type": "execute_result"
    }
   ],
   "source": [
    "a[0]"
   ]
  },
  {
   "cell_type": "code",
   "execution_count": 7,
   "metadata": {},
   "outputs": [
    {
     "data": {
      "text/plain": [
       "3"
      ]
     },
     "execution_count": 7,
     "metadata": {},
     "output_type": "execute_result"
    }
   ],
   "source": [
    "a[2]"
   ]
  },
  {
   "cell_type": "code",
   "execution_count": 9,
   "metadata": {},
   "outputs": [
    {
     "name": "stdout",
     "output_type": "stream",
     "text": [
      "28000\n"
     ]
    }
   ],
   "source": [
    "l = range(1000)\n",
    "print(sys.getsizeof(5)*len(l))"
   ]
  },
  {
   "cell_type": "code",
   "execution_count": 11,
   "metadata": {},
   "outputs": [
    {
     "name": "stdout",
     "output_type": "stream",
     "text": [
      "4000\n"
     ]
    }
   ],
   "source": [
    "array = np.arange(1000)\n",
    "print(array.size*array.itemsize)"
   ]
  },
  {
   "cell_type": "code",
   "execution_count": 32,
   "metadata": {},
   "outputs": [
    {
     "name": "stdout",
     "output_type": "stream",
     "text": [
      "python list took:  371.9501495361328\n",
      "numpy took:  1585747296669.731\n"
     ]
    }
   ],
   "source": [
    "SIZE = 1000000\n",
    "\n",
    "l1 = range(SIZE)\n",
    "l2 = range(SIZE)\n",
    "\n",
    "a1 = np.arange(SIZE)\n",
    "a2 = np.arange(SIZE)\n",
    "\n",
    "#python list\n",
    "start = time.time()\n",
    "result = [(x+y) for x,y in zip(l1,l2)]\n",
    "print(\"python list took: \",(time.time() - start) * 1000)\n",
    "\n",
    "# numpy array\n",
    "result = time.time()\n",
    "result = a1 + a2\n",
    "print(\"numpy took: \", time.time() * 1000)"
   ]
  },
  {
   "cell_type": "code",
   "execution_count": 17,
   "metadata": {},
   "outputs": [
    {
     "data": {
      "text/plain": [
       "array([0, 1, 2, 3, 4, 5, 6, 7, 8, 9])"
      ]
     },
     "execution_count": 17,
     "metadata": {},
     "output_type": "execute_result"
    }
   ],
   "source": [
    "a = np.arange(10)\n",
    "a"
   ]
  },
  {
   "cell_type": "code",
   "execution_count": 53,
   "metadata": {},
   "outputs": [
    {
     "name": "stdout",
     "output_type": "stream",
     "text": [
      "[[0. 1. 4. 7.]\n",
      " [2. 3. 4. 5.]\n",
      " [6. 7. 8. 9.]]\n",
      "\n",
      "La dimension de b est:  2\n",
      "[0. 1. 4. 7. 2. 3. 4. 5.]\n",
      "0.0\n"
     ]
    }
   ],
   "source": [
    "b = np.array([[0, 1, 4, 7], [2, 3, 4, 5], [6, 7, 8, 9]], dtype = np.float64)\n",
    "print(b)\n",
    "print()\n",
    "print(\"La dimension de b est: \", b.ndim)\n",
    "x = b[:2, :]\n",
    "x = x.ravel()\n",
    "print(x)\n",
    "print(b.min())"
   ]
  },
  {
   "cell_type": "code",
   "execution_count": 30,
   "metadata": {},
   "outputs": [
    {
     "name": "stdout",
     "output_type": "stream",
     "text": [
      "[[0.+0.j 1.+0.j 4.+0.j 7.+0.j]\n",
      " [2.+0.j 3.+0.j 4.+0.j 5.+0.j]\n",
      " [6.+0.j 7.+0.j 8.+0.j 9.+0.j]]\n"
     ]
    }
   ],
   "source": [
    "b = np.array([[0, 1, 4, 7], [2, 3, 4, 5], [6, 7, 8, 9]], dtype = complex)\n",
    "print(b)"
   ]
  },
  {
   "cell_type": "code",
   "execution_count": 55,
   "metadata": {},
   "outputs": [
    {
     "name": "stdout",
     "output_type": "stream",
     "text": [
      "  lkjmlkjlkmj <class 'numpy.ndarray'>\n",
      "t1 = [ 1.          3.11111111  5.22222222  7.33333333  9.44444444 11.55555556\n",
      " 13.66666667 15.77777778 17.88888889 20.        ] \n",
      " \n",
      " t2 = [1. 2. 3. 4. 5.]\n",
      "(5,)\n",
      "(5,)\n",
      "\n",
      "[[1.]\n",
      " [2.]\n",
      " [3.]\n",
      " [4.]\n",
      " [5.]]\n",
      "(5, 1)\n",
      "\n",
      "[1. 2. 3. 4. 5.]\n",
      "1.0\n",
      "5.0\n",
      "15.0\n"
     ]
    }
   ],
   "source": [
    "t1 = np.linspace(1, 20, 10)#dans la botte le max c'est 1 et le min c'est 20\n",
    "t2 = np.linspace(1,5, 5)#on a 5 nombre donc le max c'est 1 et le min c'est 5\n",
    "x1 = t1\n",
    "\n",
    "print(\"  lkjmlkjlkmj\",type(x1))\n",
    "print(\"t1 = {} \\n \\n t2 = {}\".format(t1,t2))\n",
    "\n",
    "print(np.shape(t2))\n",
    "print(t2.shape)\n",
    "t3 = t2.shape\n",
    "t4 = t2.reshape(5,1)\n",
    "print()\n",
    "print(t4)\n",
    "print(t4.shape)\n",
    "\n",
    "print()\n",
    "t5 = t4.ravel()\n",
    "print(t5)\n",
    "print(x1.min())\n",
    "print(t5.max())\n",
    "print(t5.sum())\n"
   ]
  },
  {
   "cell_type": "code",
   "execution_count": 60,
   "metadata": {},
   "outputs": [
    {
     "name": "stdout",
     "output_type": "stream",
     "text": [
      "[[1 2]\n",
      " [3 4]\n",
      " [5 6]]\n",
      "\n",
      "[ 9 12]\n",
      "\n",
      "[ 3  7 11]\n"
     ]
    }
   ],
   "source": [
    "matA = np.array([[1,2], [3,4],[5,6]])\n",
    "\n",
    "print(matA)\n",
    "print()\n",
    "print(matA.sum(axis = 0))\n",
    "print()\n",
    "print(matA.sum(axis = 1))"
   ]
  }
 ],
 "metadata": {
  "kernelspec": {
   "display_name": "Python 3",
   "language": "python",
   "name": "python3"
  },
  "language_info": {
   "codemirror_mode": {
    "name": "ipython",
    "version": 3
   },
   "file_extension": ".py",
   "mimetype": "text/x-python",
   "name": "python",
   "nbconvert_exporter": "python",
   "pygments_lexer": "ipython3",
   "version": "3.7.6"
  }
 },
 "nbformat": 4,
 "nbformat_minor": 4
}
