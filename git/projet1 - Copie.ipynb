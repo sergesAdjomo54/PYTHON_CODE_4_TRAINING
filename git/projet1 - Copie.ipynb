{
 "cells": [
  {
   "cell_type": "code",
   "execution_count": 3,
   "metadata": {},
   "outputs": [
    {
     "name": "stdout",
     "output_type": "stream",
     "text": [
      "hello word\n"
     ]
    }
   ],
   "source": [
    "print(\"hello word\")\n"
   ]
  },
  {
   "cell_type": "code",
   "execution_count": 4,
   "metadata": {},
   "outputs": [
    {
     "name": "stdout",
     "output_type": "stream",
     "text": [
      "['Yaoundé', 'Douala', 'Ebolowa', 'Koumassi', 'Paris']\n"
     ]
    }
   ],
   "source": [
    "villes = ['Yaoundé','Douala','Ebolowa','Koumassi','Paris']\n",
    "print(villes)"
   ]
  },
  {
   "cell_type": "code",
   "execution_count": 5,
   "metadata": {},
   "outputs": [
    {
     "name": "stdout",
     "output_type": "stream",
     "text": [
      "['Douala', 'Ebolowa', 'Koumassi', 'Paris', 'Yaoundé']\n"
     ]
    }
   ],
   "source": [
    "villes.sort()\n",
    "print(villes)"
   ]
  },
  {
   "cell_type": "code",
   "execution_count": 6,
   "metadata": {},
   "outputs": [
    {
     "name": "stdout",
     "output_type": "stream",
     "text": [
      "['Yaoundé', 'Paris', 'Koumassi', 'Ebolowa', 'Douala']\n"
     ]
    }
   ],
   "source": [
    "villes.sort(reverse = True)\n",
    "print(villes)"
   ]
  },
  {
   "cell_type": "code",
   "execution_count": 8,
   "metadata": {},
   "outputs": [
    {
     "name": "stdout",
     "output_type": "stream",
     "text": [
      "{'arachides': 150, 'manioc': 1500, 'macabo': 3000}\n"
     ]
    }
   ],
   "source": [
    "articles = {\n",
    "    \"arachides\" : 150,\n",
    "    \"manioc\" : 1500,\n",
    "    \"macabo\" : 3000\n",
    "}\n",
    "print(articles)"
   ]
  },
  {
   "cell_type": "code",
   "execution_count": 11,
   "metadata": {},
   "outputs": [
    {
     "ename": "AttributeError",
     "evalue": "'dict' object has no attribute 'arachides'",
     "output_type": "error",
     "traceback": [
      "\u001b[1;31m---------------------------------------------------------------------------\u001b[0m",
      "\u001b[1;31mAttributeError\u001b[0m                            Traceback (most recent call last)",
      "\u001b[1;32m<ipython-input-11-a32cfe5c6811>\u001b[0m in \u001b[0;36m<module>\u001b[1;34m\u001b[0m\n\u001b[1;32m----> 1\u001b[1;33m \u001b[0marticles\u001b[0m\u001b[1;33m.\u001b[0m\u001b[0marachides\u001b[0m \u001b[1;33m=\u001b[0m \u001b[1;36m450\u001b[0m\u001b[1;33m\u001b[0m\u001b[1;33m\u001b[0m\u001b[0m\n\u001b[0m",
      "\u001b[1;31mAttributeError\u001b[0m: 'dict' object has no attribute 'arachides'"
     ]
    }
   ],
   "source": [
    "articles.arachides = 450"
   ]
  },
  {
   "cell_type": "code",
   "execution_count": 12,
   "metadata": {},
   "outputs": [
    {
     "name": "stdout",
     "output_type": "stream",
     "text": [
      "\f",
      "\n"
     ]
    }
   ],
   "source": [
    "clear"
   ]
  },
  {
   "cell_type": "code",
   "execution_count": 16,
   "metadata": {},
   "outputs": [
    {
     "ename": "IndentationError",
     "evalue": "expected an indented block (<ipython-input-16-fe22696f915d>, line 9)",
     "output_type": "error",
     "traceback": [
      "\u001b[1;36m  File \u001b[1;32m\"<ipython-input-16-fe22696f915d>\"\u001b[1;36m, line \u001b[1;32m9\u001b[0m\n\u001b[1;33m    classeur[\"positif\"]= nombre\u001b[0m\n\u001b[1;37m           ^\u001b[0m\n\u001b[1;31mIndentationError\u001b[0m\u001b[1;31m:\u001b[0m expected an indented block\n"
     ]
    }
   ],
   "source": [
    "classeur = {\n",
    "        \"positif\" : [],\n",
    "        \"negatif\" : [],\n",
    "    }\n",
    "\n",
    "def trier(classeur, nombre):\n",
    "    \n",
    "    if(nombre > 0):\n",
    "    classeur[\"positif\"]= nombre\n",
    "    \n",
    "    return classeur\n",
    "\n",
    "tri = trier(classeur, 5)\n",
    "print(tri)"
   ]
  },
  {
   "cell_type": "code",
   "execution_count": 31,
   "metadata": {},
   "outputs": [
    {
     "ename": "SyntaxError",
     "evalue": "'return' outside function (<ipython-input-31-405e9cb6f8d3>, line 11)",
     "output_type": "error",
     "traceback": [
      "\u001b[1;36m  File \u001b[1;32m\"<ipython-input-31-405e9cb6f8d3>\"\u001b[1;36m, line \u001b[1;32m11\u001b[0m\n\u001b[1;33m    return classeur\u001b[0m\n\u001b[1;37m                   ^\u001b[0m\n\u001b[1;31mSyntaxError\u001b[0m\u001b[1;31m:\u001b[0m 'return' outside function\n"
     ]
    }
   ],
   "source": [
    "\n",
    "nombre = 10\n",
    "def trier(classeur, nombre):\n",
    "    classeur = {\n",
    "        \"positif\" : [],\n",
    "        \"negatif\" : [],\n",
    "    }\n",
    "if(nombre > 0):\n",
    "    classeur.update({\"positif\" : nombre})\n",
    "else:\n",
    "    classeur.update({\"negatif\" : nombre})    \n",
    "return classeur\n",
    "\n",
    "\n",
    "\n",
    "print(trier(classeur, 10))"
   ]
  },
  {
   "cell_type": "code",
   "execution_count": 35,
   "metadata": {},
   "outputs": [
    {
     "name": "stdout",
     "output_type": "stream",
     "text": [
      "\n",
      "---------------exo de video 5-------------\n",
      "\n",
      "{'positif': [400, 400], 'negatif': [-700]}\n"
     ]
    }
   ],
   "source": [
    "print(\"\\n---------------exo de video 5-------------\\n\")\n",
    "\n",
    "def trier(classeur, nombre):\n",
    "    \n",
    "    if nombre > 0:\n",
    "        classeur['positif'].append(nombre)\n",
    "    else:\n",
    "        classeur['negatif'].append(nombre)\n",
    "        \n",
    "    return classeur\n",
    "\n",
    "print(trier(classeur, -700))"
   ]
  },
  {
   "cell_type": "code",
   "execution_count": 37,
   "metadata": {},
   "outputs": [
    {
     "name": "stdout",
     "output_type": "stream",
     "text": [
      "[0, 1, 4, 9, 16, 25, 36, 49, 64, 81]\n"
     ]
    }
   ],
   "source": [
    "liste_2 = [i**2 for i in range(10)]\n",
    "print(liste_2)\n",
    "    "
   ]
  },
  {
   "cell_type": "code",
   "execution_count": 4,
   "metadata": {},
   "outputs": [
    {
     "data": {
      "text/plain": [
       "['Thibaut', 'ango', 'Serges', 'Adjomo']"
      ]
     },
     "execution_count": 4,
     "metadata": {},
     "output_type": "execute_result"
    }
   ],
   "source": [
    "import random\n",
    "liste = ['ango', 'Adjomo', 'Serges', 'Thibaut']\n",
    "random.shuffle(liste)\n",
    "liste"
   ]
  },
  {
   "cell_type": "code",
   "execution_count": 55,
   "metadata": {},
   "outputs": [
    {
     "name": "stdout",
     "output_type": "stream",
     "text": [
      "(10,)\n"
     ]
    }
   ],
   "source": [
    "import numpy as np\n",
    "\n",
    "tab1 = np.array([0, 1, 4, 9, 16, 25, 36, 49, 64, 81])\n",
    "print(tab1.shape)"
   ]
  },
  {
   "cell_type": "code",
   "execution_count": 56,
   "metadata": {},
   "outputs": [
    {
     "data": {
      "text/plain": [
       "array([[0., 0.],\n",
       "       [0., 0.],\n",
       "       [0., 0.]])"
      ]
     },
     "execution_count": 56,
     "metadata": {},
     "output_type": "execute_result"
    }
   ],
   "source": [
    "tab2 = np.zeros((3,2))\n",
    "tab2"
   ]
  },
  {
   "cell_type": "code",
   "execution_count": null,
   "metadata": {},
   "outputs": [],
   "source": []
  }
 ],
 "metadata": {
  "kernelspec": {
   "display_name": "Python 3",
   "language": "python",
   "name": "python3"
  },
  "language_info": {
   "codemirror_mode": {
    "name": "ipython",
    "version": 3
   },
   "file_extension": ".py",
   "mimetype": "text/x-python",
   "name": "python",
   "nbconvert_exporter": "python",
   "pygments_lexer": "ipython3",
   "version": "3.7.6"
  }
 },
 "nbformat": 4,
 "nbformat_minor": 4
}
