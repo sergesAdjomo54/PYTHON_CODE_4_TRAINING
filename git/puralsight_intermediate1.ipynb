{
 "cells": [
  {
   "cell_type": "markdown",
   "metadata": {},
   "source": [
    "# ####################################################\n",
    "#                                                                                                        #\n",
    "#              MODULE 8 SUITE PYTHON INTERMEDIAIRE              #\n",
    "#                                                                                                       # #####################################################"
   ]
  },
  {
   "cell_type": "code",
   "execution_count": 1,
   "metadata": {},
   "outputs": [
    {
     "name": "stdout",
     "output_type": "stream",
     "text": [
      "LE CODE EQUIVALENT EST:\n",
      "<class 'generator'>\n",
      "[(1, 0), (2, 0), (2, 1), (3, 0), (3, 1), (3, 2), (4, 0), (4, 1), (4, 2), (4, 3), (5, 0), (5, 1), (5, 2), (5, 3), (5, 4), (6, 0), (6, 1), (6, 2), (6, 3), (6, 4), (6, 5), (7, 0), (7, 1), (7, 2), (7, 3), (7, 4), (7, 5), (7, 6), (8, 0), (8, 1), (8, 2), (8, 3), (8, 4), (8, 5), (8, 6), (8, 7), (9, 0), (9, 1), (9, 2), (9, 3), (9, 4), (9, 5), (9, 6), (9, 7), (9, 8)]\n"
     ]
    }
   ],
   "source": [
    "#------------------MULTIPLE INPUT COMPREHENSION--------------------------------#\n",
    "\n",
    "values = [x / (x-y) for x in range(100) if x > 50 for y in range(100) if x - y != 0]\n",
    "#print(values)\n",
    "print(\"LE CODE EQUIVALENT EST:\")\n",
    "values = []\n",
    "for x in range(100):\n",
    "    if x > 50:\n",
    "        for y in range(100):\n",
    "            if (x - y) != 0:\n",
    "                values.append((x/(x-y)))\n",
    "#####################################################################################\n",
    "\n",
    "n = [(x, y) for x in range(10) for y in range(x)]\n",
    "\n",
    "# LE CODE EQUIVALENT EST:\n",
    "\n",
    "result = []\n",
    "for x in range(10):\n",
    "    for y in range(10):\n",
    "        result.append((x, y))\n",
    "\n",
    "        \n",
    "######################## NESTED COMPREHENSION  #########################################\n",
    "\n",
    "vals = [[y * 3 for y in range(x)] for x in range(10)]\n",
    "\n",
    "# CODE EQUIVALENT EST :\n",
    "\n",
    "outer = []\n",
    "for x in range(10):\n",
    "    inner = []\n",
    "    for y in range(x):\n",
    "        inner.append(y * 3)\n",
    "    outer.append(inner)\n",
    "    \n",
    "#SET COMPREHENSION-------------------#\n",
    "s = {x * y for x in range(10) for y in range(10)}\n",
    "type(s)\n",
    "#GENERATOR COMPREHENSION -------------------#\n",
    "g = ((x, y) for x in range(10) for y in range(x))\n",
    "print(type(g))\n",
    "print(list(g))\n",
    "\n",
    "\n",
    "\n",
    "\n",
    "        \n",
    "        "
   ]
  },
  {
   "cell_type": "code",
   "execution_count": 2,
   "metadata": {},
   "outputs": [
    {
     "name": "stdout",
     "output_type": "stream",
     "text": [
      "<map object at 0x00000048B0B5DBC8>\n",
      "calling <built-in function ord>\n",
      "84\n",
      "calling <built-in function ord>\n",
      "104\n",
      "calling <built-in function ord>\n",
      "101\n",
      "[84, 104, 101, 32, 113, 117, 105, 99, 107, 32, 98, 114, 111, 119, 110, 32, 102, 111, 120]\n"
     ]
    }
   ],
   "source": [
    "#-----ITERATION AND ITERATABLES WITH MAP() FUNCTION-------------------#\n",
    "map(ord, 'The quick brow fox')\n",
    "\n",
    "class Trace:\n",
    "    def __init__(self):\n",
    "        self.enabled = True\n",
    "        \n",
    "    def __call__(self, f):\n",
    "        def wrap(*args, **kwargs):\n",
    "            if self.enabled:\n",
    "                print(\"calling {}\".format(f))\n",
    "            return f(*args, **kwargs)\n",
    "        return wrap\n",
    "    \n",
    "result = map(Trace()(ord), 'The quick brown fox')\n",
    "print(result)\n",
    "\n",
    "#avec next on obtient les élément produit par map() suivant lazy iteration\n",
    "print(next(result))\n",
    "print(next(result))\n",
    "print(next(result))\n",
    "\n",
    "#on peut obtenir la totalité en insérant ses éléments dans une list ou utiliser un bouble for\n",
    "\n",
    "print(list(map(ord, \"The quick brown fox\")))\n"
   ]
  },
  {
   "cell_type": "code",
   "execution_count": 25,
   "metadata": {},
   "outputs": [
    {
     "name": "stdout",
     "output_type": "stream",
     "text": [
      "['small lavender koala ', 'medium teal playpus ', 'large burnt orange salamander ']\n"
     ]
    },
    {
     "data": {
      "text/plain": [
       "\"['0 small lavender ', '1 medium teal ', '2 large burnt orange ']\""
      ]
     },
     "execution_count": 25,
     "metadata": {},
     "output_type": "execute_result"
    }
   ],
   "source": [
    "sizes = ['small', 'medium', 'large']\n",
    "colors = ['lavender', 'teal', 'burnt orange']\n",
    "animals = ['koala', 'playpus', 'salamander', 'en plus']\n",
    "#En une ligne de code on cree la fonction \"combine\" a laquel on associe les \"3 list\"\n",
    "a = list(map(combine, sizes, colors, animals))\n",
    "print(a)# le nombre de ligne et de colone doivent etre identiques\n",
    "\n",
    "#------------LA FONCTION UTILISER PAR LE MAP EST:\n",
    "def combine(size, color, animal):\n",
    "    return '{} {} {} '.format(size, color, animal)\n",
    "\n",
    "#La fonction 'map()' peut prendre plusieurs fonction avec des valeurs infinie\n",
    "\n",
    "import itertools\n",
    "\n",
    "def combines(quantity, size, color, animal):\n",
    "    return '{} {} {} '.format(quantity, size, color, animal)\n",
    "\n",
    "b = list(map(combines, itertools.count(), sizes, colors, animals))\n",
    "repr(b)\n",
    "\n",
    "\n",
    "\n",
    "\n",
    "\n"
   ]
  },
  {
   "cell_type": "code",
   "execution_count": 42,
   "metadata": {},
   "outputs": [
    {
     "name": "stdout",
     "output_type": "stream",
     "text": [
      "list: \n",
      "['0', '1', '2', '3', '4']\n",
      "map: \n",
      "['0', '1', '2', '3', '4']\n",
      "\n",
      "<class 'filter'>\n",
      "[1, 6, 8]\n",
      "\n",
      "[1, True, [1, 2, 3], 'hello']\n",
      "-----------------FONCTION reduce() de fonctools-----------------------\n",
      "\n",
      "<class 'int'>\n",
      "15\n",
      "15\n",
      "mul 1 2\n",
      "mul 2 3\n",
      "mul 6 4\n",
      "mul 24 5\n",
      "mul 120 6\n",
      "mul 720 7\n",
      "mul 5040 8\n",
      "mul 40320 9\n",
      "362880\n",
      "6\n",
      "0\n",
      "6\n",
      "6\n"
     ]
    }
   ],
   "source": [
    "################## MAP() VS COMPREHENSION #################################\n",
    "print(\"list: \")\n",
    "i = (str(i) for i in range(5))\n",
    "print(list(i))\n",
    "print(\"map: \")\n",
    "i = map(str, range(5))\n",
    "print(list(i))\n",
    "\n",
    "######################## FILTER() VS MAP() ################################\n",
    "\n",
    "#la fonction 'filter()' fait un lazy iter des valeur qui sont essentiellement vrais\n",
    "print()\n",
    "positives = filter(lambda x: x > 0, [1, -5, 0, 6, -2, 8])\n",
    "print(type(positives))\n",
    "print(list(positives))\n",
    "\n",
    "#meme les valeures vides et None sont éléminées\n",
    "trues = filter(None, [0, 1, False, True, [], [1, 2, 3], '', 'hello'])\n",
    "print()\n",
    "print(list(trues))\n",
    "\n",
    "######################## FONCTION REDUCE() de FUNCTOOLS ################################\n",
    "print('-----------------FONCTION reduce() de fonctools-----------------------')\n",
    "from functools import reduce\n",
    "import operator\n",
    "print()\n",
    "red = reduce(operator.add, [ 1, 2, 3, 4, 5]) #\"\"\"il addition les nombre de la list\"\"\"\n",
    "print(type(red))\n",
    "print(red)\n",
    "\n",
    "numbers = [ 1, 2, 3, 4, 5]\n",
    "accumulator = operator.add(numbers[0], numbers[1])\n",
    "for item in numbers[2:]:\n",
    "    accumulator = operator.add(accumulator, item)#il addition les elts de chaque tab appart\n",
    "    \n",
    "print(accumulator)\n",
    "\n",
    "def mul(x, y):\n",
    "    print('mul {} {}'.format(x, y))\n",
    "    return x * y\n",
    "\n",
    "print(reduce(mul, range(1, 10)))\n",
    "\n",
    "values = [1, 2, 3]\n",
    "print(reduce(operator.add, values, 0))\n",
    "\n",
    "values = []\n",
    "print(reduce(operator.add, values, 0))\n",
    "\n",
    "values = [1, 2, 3]\n",
    "print(reduce(operator.add, values, 0))\n",
    "\n",
    "print(reduce(operator.mul, values, 1))\n",
    "\n",
    "\n",
    "\n"
   ]
  },
  {
   "cell_type": "code",
   "execution_count": 47,
   "metadata": {},
   "outputs": [
    {
     "name": "stdout",
     "output_type": "stream",
     "text": [
      "---------------------mix map()fonction and reduce() function ---------------------\n",
      "{'its': 1, 'was': 2, 'the': 2, 'best': 1, 'of': 2, 'time': 2, 'it': 1, 'worst': 1}\n",
      "{'je': 1, 'suis': 1, 'le': 1, 'seul': 1, 'rappeur': 1, 'au': 1, 'monde': 1, 'qui': 1, 'connais': 1, 'tout': 1, 'ses': 1, 'fans': 1, 'la': 1, 'espèce': 1}\n"
     ]
    }
   ],
   "source": [
    "print('---------------------mix map()fonction and reduce() function ---------------------')\n",
    "\n",
    "def count_words(doc):\n",
    "    nomalised_doc = ''.join(c.lower() if c.isalpha() else ' ' for c in doc)\n",
    "    frequencies = {}\n",
    "    for word in nomalised_doc.split():\n",
    "        frequencies[word] = frequencies.get(word, 0) + 1\n",
    "    return frequencies\n",
    "\n",
    "print(count_words('its was the best of time, it was the worst of time'))\n",
    "\n",
    "\n",
    "documents = ['je suis le seul rappeur au monde qui connais tout ses fans',\n",
    "            'la vérité cest que mes fans ne depassent jamais 10, avant que corona ne kem ils étaient kan mm flop',\n",
    "            'espèce de kon'\n",
    "            \n",
    "]\n",
    "\n",
    "counts = map(count_words, documents)\n",
    "\n",
    "def combin_counts(d1, d2):\n",
    "    d = d1.copy()\n",
    "    for word, count in d2.items():\n",
    "        d[word] = d.get(word, 0) + count\n",
    "        return d\n",
    "    \n",
    "\n",
    "total_counts = reduce(combin_counts, counts)\n",
    "\n",
    "print(total_counts)\n",
    "\n",
    "\n"
   ]
  },
  {
   "cell_type": "code",
   "execution_count": 57,
   "metadata": {},
   "outputs": [
    {
     "name": "stdout",
     "output_type": "stream",
     "text": [
      "1\n",
      "2\n",
      "3\n",
      "1\n",
      "2\n",
      "3\n"
     ]
    }
   ],
   "source": [
    "#-----------------ITERATOR __iter__() and __next__() functions ------------------------#\n",
    "\n",
    "\n",
    "class Example_iterator:\n",
    "    def __init__(self):\n",
    "        self.index = 0\n",
    "        self.data = [1, 2, 3]\n",
    "        \n",
    "    def __iter__(self):\n",
    "        return self\n",
    "    \n",
    "    def __next__(self):\n",
    "        if self.index >= len(self.data):\n",
    "            raise StopIteration()\n",
    "            \n",
    "        result = self.data[self.index]\n",
    "        self.index += 1\n",
    "        return result\n",
    "    \n",
    "i = Example_iterator()\n",
    "print(next(i))\n",
    "print(next(i))\n",
    "print(next(i))\n",
    "\n",
    "for i in Example_iterator():\n",
    "    print(i)\n",
    "    \n",
    "\n"
   ]
  },
  {
   "cell_type": "code",
   "execution_count": 63,
   "metadata": {},
   "outputs": [
    {
     "name": "stdout",
     "output_type": "stream",
     "text": [
      "1\n",
      "2\n",
      "3\n"
     ]
    },
    {
     "data": {
      "text/plain": [
       "[3, 6, 9]"
      ]
     },
     "execution_count": 63,
     "metadata": {},
     "output_type": "execute_result"
    }
   ],
   "source": [
    "class Example_iterator:\n",
    "    def __init__(self, data):\n",
    "        self.index = 0\n",
    "        self.data = data\n",
    "        \n",
    "    def __iter__(self):\n",
    "        return self\n",
    "    \n",
    "    def __next__(self):\n",
    "        if self.index >= len(self.data):\n",
    "            raise StopIteration()\n",
    "            \n",
    "        result = self.data[self.index]\n",
    "        self.index += 1\n",
    "        return result\n",
    "    \n",
    "class Example_iterable:\n",
    "    def __init__(self):\n",
    "        self.data = [1, 2, 3]\n",
    "        \n",
    "    def __iter__(self):\n",
    "        return Example_iterator(self.data)\n",
    "    \n",
    "for i in Example_iterable():\n",
    "    print(i)\n",
    "    \n",
    "[i * 3 for i in Example_iterable()]\n",
    "\n",
    "        "
   ]
  },
  {
   "cell_type": "code",
   "execution_count": 64,
   "metadata": {},
   "outputs": [
    {
     "data": {
      "text/plain": [
       "[1, 2, 3]"
      ]
     },
     "execution_count": 64,
     "metadata": {},
     "output_type": "execute_result"
    }
   ],
   "source": [
    "#------------------ALTERNATIVE ITERABLE WITH __getitem__() function ------------------#\n",
    "\n",
    "class Alternative_iterable:\n",
    "    def __init__(self):\n",
    "        self.data = [1, 2, 3]\n",
    "        \n",
    "    def __getitem__(self, idx):\n",
    "        return self.data[idx]\n",
    "    \n",
    "    \n",
    "[i for i in Alternative_iterable()]\n",
    "\n",
    "\n",
    "\n",
    "\n",
    "\n",
    "\n",
    "\n"
   ]
  },
  {
   "cell_type": "code",
   "execution_count": 67,
   "metadata": {},
   "outputs": [
    {
     "name": "stdout",
     "output_type": "stream",
     "text": [
      "Elle a 2 argument iter(callable, et sentinel) si callable == sentinel arret sino go\n",
      "-------------------la fonction next()----------------------------\n",
      "2020-05-07 23:28:42.320332\n",
      "2020-05-07 23:28:42.321330\n",
      "2020-05-07 23:28:42.321330\n",
      "2020-05-07 23:28:42.321330\n"
     ]
    }
   ],
   "source": [
    "#-------------LA FONCTION 'iter()'------------------#\n",
    "\n",
    "print('Elle a 2 argument iter(callable, et sentinel) si callable == sentinel arret sino go')\n",
    "\n",
    "import datetime\n",
    "i = iter(datetime.datetime.now, None)\n",
    "#Tant que datetime.datetime.now produira une valeur != de 'None' la fonction 'next()' s'execute.\n",
    "print('-------------------la fonction next()----------------------------')\n",
    "print(next(i))\n",
    "print(next(i))\n",
    "print(next(i))\n",
    "print(next(i))\n",
    "\n"
   ]
  },
  {
   "cell_type": "code",
   "execution_count": 68,
   "metadata": {},
   "outputs": [
    {
     "name": "stdout",
     "output_type": "stream",
     "text": [
      "You should\n",
      "see this\n",
      "text.\n"
     ]
    }
   ],
   "source": [
    "with open('ending_file.txt') as f:\n",
    "    for line in iter(lambda: f.readline().strip(), 'END'):\n",
    "        print(line)\n",
    "        \n",
    "#on s'arrete losqu'on rencontre le mot (END)"
   ]
  },
  {
   "cell_type": "code",
   "execution_count": 71,
   "metadata": {},
   "outputs": [
    {
     "ename": "ModuleNotFoundError",
     "evalue": "No module named 'Sensor'",
     "output_type": "error",
     "traceback": [
      "\u001b[1;31m---------------------------------------------------------------------------\u001b[0m",
      "\u001b[1;31mModuleNotFoundError\u001b[0m                       Traceback (most recent call last)",
      "\u001b[1;32m<ipython-input-71-e778363f17cd>\u001b[0m in \u001b[0;36m<module>\u001b[1;34m\u001b[0m\n\u001b[0;32m     21\u001b[0m \u001b[1;33m\u001b[0m\u001b[0m\n\u001b[0;32m     22\u001b[0m \u001b[1;33m\u001b[0m\u001b[0m\n\u001b[1;32m---> 23\u001b[1;33m \u001b[1;32mimport\u001b[0m \u001b[0mSensor\u001b[0m\u001b[1;33m\u001b[0m\u001b[1;33m\u001b[0m\u001b[0m\n\u001b[0m\u001b[0;32m     24\u001b[0m \u001b[1;33m\u001b[0m\u001b[0m\n\u001b[0;32m     25\u001b[0m \u001b[1;33m\u001b[0m\u001b[0m\n",
      "\u001b[1;31mModuleNotFoundError\u001b[0m: No module named 'Sensor'"
     ]
    }
   ],
   "source": [
    "######################### UN EXEMPLE CONCRET #########################################\n",
    "\n",
    "import datetime\n",
    "import itertools\n",
    "import random\n",
    "import time\n",
    "\n",
    "class Sensor:\n",
    "    def __iter__(self):\n",
    "        return self\n",
    "    \n",
    "    def __next__(self):\n",
    "        return random.random()\n",
    "    \n",
    "sensor = Sensor()\n",
    "\n",
    "timestamps = iter(datetime.datetime.now, None)\n",
    "\n",
    "for stamp, value in itertools.islice(zip(timestamps, sensor), 10):\n",
    "    time.sleep(1)\n",
    "    \n",
    "    \n",
    "import Sensor\n",
    "\n",
    "\n",
    "\n",
    "\n",
    "\n",
    "\n",
    "\n",
    "\n",
    "\n"
   ]
  },
  {
   "cell_type": "markdown",
   "metadata": {},
   "source": [
    "# ####################################################\n",
    "#                                                                                                        #\n",
    "#              MODULE 9 SUITE PYTHON INTERMEDIAIRE              #\n",
    "#                                                                                                       # # ####################################################"
   ]
  },
  {
   "cell_type": "code",
   "execution_count": 72,
   "metadata": {},
   "outputs": [
    {
     "name": "stdout",
     "output_type": "stream",
     "text": [
      "Base initializer\n"
     ]
    }
   ],
   "source": [
    "###################################################################################################\n",
    "#########  --------HERITAGE------------SOUS-TYPE-------POLYMORPHYSME---------------################\n",
    "\n",
    "\n",
    "# HERITAGE UNIQUE---------'class ClassFille(ClasseMere)'-----------------------\n",
    "\n",
    "class Base:\n",
    "    def __init__(self):#La fonction {__init__()} est appelée automatiquement a la creation d'un objet\n",
    "        print('Base initializer')\n",
    "        \n",
    "    def f(self):\n",
    "        print('Base.f()')\n",
    "b = Base()\n",
    "\n",
    "\n",
    "\n"
   ]
  },
  {
   "cell_type": "code",
   "execution_count": 83,
   "metadata": {},
   "outputs": [
    {
     "name": "stdout",
     "output_type": "stream",
     "text": [
      "Base initializer\n",
      "Sub initializer\n"
     ]
    }
   ],
   "source": [
    "class Sub(Base):\n",
    "    \n",
    "    def __init__(self):\n",
    "        super().__init__()\n",
    "        print('Sub initializer')\n",
    "    \n",
    "    def f(self):\n",
    "        print(\"Sub.f()\")#Redefinition de la fonction {f()} de la mère.\n",
    "\n",
    "s = Sub()#l'objet de la sous classe appelle automtiquement le constructeur de la classe 'mère'\n",
    "#print(s)\n",
    "\n",
    "#print(s.f())\n",
    "\n",
    "#p = Sub()\n",
    "\n",
    "\n",
    "\n"
   ]
  },
  {
   "cell_type": "code",
   "execution_count": 3,
   "metadata": {},
   "outputs": [
    {
     "name": "stdout",
     "output_type": "stream",
     "text": [
      "SortedList([3, 5, 11, 78])\n",
      "<class '__main__.SortedList'>\n",
      "<__main__.SimpleList object at 0x00000048B1C0B148>\n"
     ]
    },
    {
     "data": {
      "text/plain": [
       "5"
      ]
     },
     "execution_count": 3,
     "metadata": {},
     "output_type": "execute_result"
    }
   ],
   "source": [
    "class SimpleList: \n",
    "    def __init__(self, items):\n",
    "        self._items = list(items)\n",
    "        \n",
    "    def add(self, item):\n",
    "        self._items.append(item)\n",
    "        \n",
    "    def __getitem__(self, index):\n",
    "        return self._items[index]\n",
    "    \n",
    "    def sort(self):\n",
    "        self._items.sort()\n",
    "\n",
    "    def __len__(self):\n",
    "        return len(self._items)\n",
    "    \n",
    "    def __repr(self):\n",
    "        return \"SimpleList({!r})\".format(self._items)\n",
    "    \n",
    "    \n",
    "class SortedList(SimpleList):\n",
    "    def __init__(self, items=()):\n",
    "        super().__init__(items)\n",
    "        self.sort()\n",
    "        \n",
    "    def add(self, item):\n",
    "        super().add(item)\n",
    "        self.sort()\n",
    "        \n",
    "    def __repr__(self):\n",
    "        return \"SortedList({!r})\".format(list(self))\n",
    "\n",
    "    \n",
    "sl = SortedList([5, 3, 11, 78])\n",
    "\n",
    "type(sl)\n",
    "print(sl)\n",
    "print(type(sl))\n",
    "sl.add(-45)\n",
    "\n",
    "sl\n",
    "li = SimpleList([5, 3, 11, 78])    \n",
    "li       \n",
    "print(li)\n",
    "li.add(70)\n",
    "\n",
    "len(li)\n",
    "\n"
   ]
  },
  {
   "cell_type": "code",
   "execution_count": 29,
   "metadata": {},
   "outputs": [
    {
     "name": "stdout",
     "output_type": "stream",
     "text": [
      "(<class '__main__.IntList'>, <class '__main__.SortedList'>)\n",
      "IntList([1, 3, 4, 5, 16])\n",
      "True\n",
      "False\n"
     ]
    },
    {
     "ename": "TypeError",
     "evalue": "IntList only support integer values.",
     "output_type": "error",
     "traceback": [
      "\u001b[1;31m---------------------------------------------------------------------------\u001b[0m",
      "\u001b[1;31mTypeError\u001b[0m                                 Traceback (most recent call last)",
      "\u001b[1;32m<ipython-input-29-b85a260fac5a>\u001b[0m in \u001b[0;36m<module>\u001b[1;34m\u001b[0m\n\u001b[0;32m     65\u001b[0m \u001b[0mprint\u001b[0m\u001b[1;33m(\u001b[0m\u001b[0missubclass\u001b[0m\u001b[1;33m(\u001b[0m\u001b[0mSortedList\u001b[0m\u001b[1;33m,\u001b[0m \u001b[0mIntList\u001b[0m\u001b[1;33m)\u001b[0m\u001b[1;33m)\u001b[0m\u001b[1;33m\u001b[0m\u001b[1;33m\u001b[0m\u001b[0m\n\u001b[0;32m     66\u001b[0m \u001b[1;33m\u001b[0m\u001b[0m\n\u001b[1;32m---> 67\u001b[1;33m \u001b[0mil\u001b[0m\u001b[1;33m.\u001b[0m\u001b[0madd\u001b[0m\u001b[1;33m(\u001b[0m\u001b[1;34m'5'\u001b[0m\u001b[1;33m)\u001b[0m\u001b[1;33m\u001b[0m\u001b[1;33m\u001b[0m\u001b[0m\n\u001b[0m",
      "\u001b[1;32m<ipython-input-29-b85a260fac5a>\u001b[0m in \u001b[0;36madd\u001b[1;34m(self, item)\u001b[0m\n\u001b[0;32m     43\u001b[0m \u001b[1;33m\u001b[0m\u001b[0m\n\u001b[0;32m     44\u001b[0m     \u001b[1;32mdef\u001b[0m \u001b[0madd\u001b[0m\u001b[1;33m(\u001b[0m\u001b[0mself\u001b[0m\u001b[1;33m,\u001b[0m \u001b[0mitem\u001b[0m\u001b[1;33m)\u001b[0m\u001b[1;33m:\u001b[0m\u001b[1;33m\u001b[0m\u001b[1;33m\u001b[0m\u001b[0m\n\u001b[1;32m---> 45\u001b[1;33m         \u001b[0mself\u001b[0m\u001b[1;33m.\u001b[0m\u001b[0m_validate\u001b[0m\u001b[1;33m(\u001b[0m\u001b[0mitem\u001b[0m\u001b[1;33m)\u001b[0m\u001b[1;33m\u001b[0m\u001b[1;33m\u001b[0m\u001b[0m\n\u001b[0m\u001b[0;32m     46\u001b[0m         \u001b[0msuper\u001b[0m\u001b[1;33m(\u001b[0m\u001b[1;33m)\u001b[0m\u001b[1;33m.\u001b[0m\u001b[0madd\u001b[0m\u001b[1;33m(\u001b[0m\u001b[0mitem\u001b[0m\u001b[1;33m)\u001b[0m\u001b[1;33m\u001b[0m\u001b[1;33m\u001b[0m\u001b[0m\n\u001b[0;32m     47\u001b[0m     \u001b[1;32mdef\u001b[0m \u001b[0m__repr__\u001b[0m\u001b[1;33m(\u001b[0m\u001b[0mself\u001b[0m\u001b[1;33m)\u001b[0m\u001b[1;33m:\u001b[0m\u001b[1;33m\u001b[0m\u001b[1;33m\u001b[0m\u001b[0m\n",
      "\u001b[1;32m<ipython-input-29-b85a260fac5a>\u001b[0m in \u001b[0;36m_validate\u001b[1;34m(x)\u001b[0m\n\u001b[0;32m     40\u001b[0m     \u001b[1;32mdef\u001b[0m \u001b[0m_validate\u001b[0m\u001b[1;33m(\u001b[0m\u001b[0mx\u001b[0m\u001b[1;33m)\u001b[0m\u001b[1;33m:\u001b[0m\u001b[1;33m\u001b[0m\u001b[1;33m\u001b[0m\u001b[0m\n\u001b[0;32m     41\u001b[0m         \u001b[1;32mif\u001b[0m \u001b[1;32mnot\u001b[0m \u001b[0misinstance\u001b[0m\u001b[1;33m(\u001b[0m\u001b[0mx\u001b[0m\u001b[1;33m,\u001b[0m \u001b[0mint\u001b[0m\u001b[1;33m)\u001b[0m\u001b[1;33m:\u001b[0m\u001b[1;33m\u001b[0m\u001b[1;33m\u001b[0m\u001b[0m\n\u001b[1;32m---> 42\u001b[1;33m             \u001b[1;32mraise\u001b[0m \u001b[0mTypeError\u001b[0m\u001b[1;33m(\u001b[0m\u001b[1;34m'IntList only support integer values.'\u001b[0m\u001b[1;33m)\u001b[0m\u001b[1;33m\u001b[0m\u001b[1;33m\u001b[0m\u001b[0m\n\u001b[0m\u001b[0;32m     43\u001b[0m \u001b[1;33m\u001b[0m\u001b[0m\n\u001b[0;32m     44\u001b[0m     \u001b[1;32mdef\u001b[0m \u001b[0madd\u001b[0m\u001b[1;33m(\u001b[0m\u001b[0mself\u001b[0m\u001b[1;33m,\u001b[0m \u001b[0mitem\u001b[0m\u001b[1;33m)\u001b[0m\u001b[1;33m:\u001b[0m\u001b[1;33m\u001b[0m\u001b[1;33m\u001b[0m\u001b[0m\n",
      "\u001b[1;31mTypeError\u001b[0m: IntList only support integer values."
     ]
    }
   ],
   "source": [
    "class SimpleList: \n",
    "    def __init__(self, items):\n",
    "        self._items = list(items)\n",
    "        \n",
    "    def add(self, item):\n",
    "        self._items.append(item)\n",
    "        \n",
    "    def __getitem__(self, index):\n",
    "        return self._items[index]\n",
    "    \n",
    "    def sort(self):\n",
    "        self._items.sort()\n",
    "\n",
    "    def __len__(self):\n",
    "        return len(self._items)\n",
    "    \n",
    "    def __repr(self):\n",
    "        return \"SimpleList({!r})\".format(self._items)\n",
    "    \n",
    "    \n",
    "class SortedList(SimpleList):\n",
    "    def __init__(self, items=()):\n",
    "        super().__init__(items)\n",
    "        self.sort()\n",
    "        \n",
    "    def add(self, item):\n",
    "        super().add(item)\n",
    "        self.sort()\n",
    "        \n",
    "    def __repr__(self):\n",
    "        return \"SortedList({!r})\".format(list(self))\n",
    "\n",
    "    \n",
    "class IntList(SimpleList):\n",
    "    def __init__(self, items=()):\n",
    "        for x in items: self._validate(x)\n",
    "        super().__init__(items)\n",
    "            \n",
    "    @staticmethod\n",
    "    def _validate(x):\n",
    "        if not isinstance(x, int):\n",
    "            raise TypeError('IntList only support integer values.')\n",
    "            \n",
    "    def add(self, item):\n",
    "        self._validate(item)\n",
    "        super().add(item)\n",
    "    def __repr__(self):\n",
    "        return \"IntList({!r})\".format(list(self))\n",
    "\n",
    "#############################\"\"\"\"\"\"HERITAGE MULTIPLE\"\"\"\"\"\"\"\"###########################\n",
    "\n",
    "class SortedIntList(IntList, SortedList):\n",
    "    def __init__(self):\n",
    "        return 'SortedList({!r})'.format(list(self))\n",
    "    \n",
    "#la fonction __bases__ nous donne la classe mere lié avec celle implémentée\n",
    "print(SortedIntList.__bases__)\n",
    "\n",
    "\n",
    "il = IntList([1, 3, 4, 5])\n",
    "il.add(16)\n",
    "print(il)\n",
    "#le mot clé 'issubclass(nom_sous_class, nom_super_class) retourne 'True' si vrai false sinon\n",
    "print(issubclass(IntList, SimpleList))\n",
    "print(issubclass(SortedList, IntList))\n",
    "\n",
    "il.add('5')"
   ]
  },
  {
   "cell_type": "code",
   "execution_count": 35,
   "metadata": {},
   "outputs": [],
   "source": [
    "class A:\n",
    "    def func(self):\n",
    "        return 'A.func'\n",
    "    \n",
    "class B:\n",
    "    def func(self):\n",
    "        return 'B.func'\n",
    "\n",
    "class C(A):\n",
    "    def func(self):\n",
    "        return 'C.func'\n",
    "\n",
    "class D(B, C):\n",
    "    pass"
   ]
  },
  {
   "cell_type": "code",
   "execution_count": 40,
   "metadata": {},
   "outputs": [
    {
     "name": "stdout",
     "output_type": "stream",
     "text": [
      "[<class '__main__.SortedIntList'>, <class '__main__.IntList'>, <class '__main__.SortedList'>, <class '__main__.SimpleList'>, <class 'object'>]\n",
      "\n",
      "(<class '__main__.SortedIntList'>, <class '__main__.IntList'>, <class '__main__.SortedList'>, <class '__main__.SimpleList'>, <class 'object'>)\n"
     ]
    },
    {
     "ename": "TypeError",
     "evalue": "__init__() takes 1 positional argument but 2 were given",
     "output_type": "error",
     "traceback": [
      "\u001b[1;31m---------------------------------------------------------------------------\u001b[0m",
      "\u001b[1;31mTypeError\u001b[0m                                 Traceback (most recent call last)",
      "\u001b[1;32m<ipython-input-40-c88f03195e18>\u001b[0m in \u001b[0;36m<module>\u001b[1;34m\u001b[0m\n\u001b[0;32m      8\u001b[0m \u001b[1;31m#on peut agir sur les methodes non static en utilisant comme 2e argument un objet d'un classe\u001b[0m\u001b[1;33m\u001b[0m\u001b[1;33m\u001b[0m\u001b[1;33m\u001b[0m\u001b[0m\n\u001b[0;32m      9\u001b[0m \u001b[1;33m\u001b[0m\u001b[0m\n\u001b[1;32m---> 10\u001b[1;33m \u001b[0msil\u001b[0m \u001b[1;33m=\u001b[0m \u001b[0mSortedIntList\u001b[0m\u001b[1;33m(\u001b[0m\u001b[1;33m[\u001b[0m\u001b[1;36m5\u001b[0m\u001b[1;33m,\u001b[0m \u001b[1;36m15\u001b[0m\u001b[1;33m,\u001b[0m \u001b[1;36m10\u001b[0m\u001b[1;33m]\u001b[0m\u001b[1;33m)\u001b[0m\u001b[1;33m\u001b[0m\u001b[1;33m\u001b[0m\u001b[0m\n\u001b[0m\u001b[0;32m     11\u001b[0m \u001b[0msuper\u001b[0m\u001b[1;33m(\u001b[0m\u001b[0mSortedList\u001b[0m\u001b[1;33m,\u001b[0m \u001b[0msil\u001b[0m\u001b[1;33m)\u001b[0m\u001b[1;33m.\u001b[0m\u001b[0madd\u001b[0m\u001b[1;33m(\u001b[0m\u001b[1;36m6\u001b[0m\u001b[1;33m)\u001b[0m\u001b[1;33m\u001b[0m\u001b[1;33m\u001b[0m\u001b[0m\n\u001b[0;32m     12\u001b[0m \u001b[0msuper\u001b[0m\u001b[1;33m(\u001b[0m\u001b[0mSortedList\u001b[0m\u001b[1;33m,\u001b[0m \u001b[0msil\u001b[0m\u001b[1;33m)\u001b[0m\u001b[1;33m.\u001b[0m\u001b[0madd\u001b[0m\u001b[1;33m(\u001b[0m\u001b[1;34m'je suis pas un nombre, je suis free'\u001b[0m\u001b[1;33m)\u001b[0m\u001b[1;33m\u001b[0m\u001b[1;33m\u001b[0m\u001b[0m\n",
      "\u001b[1;31mTypeError\u001b[0m: __init__() takes 1 positional argument but 2 were given"
     ]
    }
   ],
   "source": [
    "#la fonction __mro__ nous donnes l'arborescence du chainage des classe\n",
    "#M R O Method Resolution  Order\n",
    "\n",
    "print(SortedIntList.mro())\n",
    "print()\n",
    "print(SortedIntList.__mro__)\n",
    "\n",
    "#on peut agir sur les methodes non static en utilisant comme 2e argument un objet d'un classe\n",
    "\n",
    "sil = SortedIntList([5, 15, 10])\n",
    "super(SortedList, sil).add(6)\n",
    "super(SortedList, sil).add('je suis pas un nombre, je suis free')\n",
    "\n",
    "\n",
    "\n",
    "super(SortedList, SortedIntList)\n",
    "super(SortedList, SortedIntList)._validate(5) #n'agit que sur les methode static\n",
    "super(SortedList, SortedIntList)._validate('d')\n",
    "\n"
   ]
  },
  {
   "cell_type": "code",
   "execution_count": 2,
   "metadata": {},
   "outputs": [
    {
     "ename": "SyntaxError",
     "evalue": "invalid syntax (<ipython-input-2-dd33e12cb76a>, line 2)",
     "output_type": "error",
     "traceback": [
      "\u001b[1;36m  File \u001b[1;32m\"<ipython-input-2-dd33e12cb76a>\"\u001b[1;36m, line \u001b[1;32m2\u001b[0m\n\u001b[1;33m    form sorted_set import SortedSet\u001b[0m\n\u001b[1;37m                  ^\u001b[0m\n\u001b[1;31mSyntaxError\u001b[0m\u001b[1;31m:\u001b[0m invalid syntax\n"
     ]
    }
   ],
   "source": [
    "import unittest\n",
    "form sorted_set import SortedSet\n",
    "\n",
    "class TestConstruction(unittest.TestCase):\n",
    "    \n",
    "    def test_empty(self):\n",
    "        s = SortedSet([])\n",
    "        \n",
    "    def test_from_sequence(self):\n",
    "        s = SortedSet([7, 8, 3, 1])\n",
    "        \n",
    "    def test_with_duplicates(self):\n",
    "        s = SortedSet([8, 8, 8])\n",
    "        \n",
    "    def test_from_iterable(self):\n",
    "        def gen6842():\n",
    "            yield 6\n",
    "            yield 8\n",
    "            yield 4 \n",
    "            yield 2\n",
    "        g = gen6842()\n",
    "        s = Sortedset(g)\n",
    "        \n",
    "\n",
    "if __name__ == '__main__':\n",
    "    unittest.main()\n",
    "        \n",
    "        \n",
    "        \n",
    "        \n",
    "        \n",
    "        "
   ]
  },
  {
   "cell_type": "code",
   "execution_count": null,
   "metadata": {},
   "outputs": [],
   "source": []
  },
  {
   "cell_type": "code",
   "execution_count": null,
   "metadata": {},
   "outputs": [],
   "source": []
  },
  {
   "cell_type": "code",
   "execution_count": null,
   "metadata": {},
   "outputs": [],
   "source": []
  },
  {
   "cell_type": "code",
   "execution_count": null,
   "metadata": {},
   "outputs": [],
   "source": []
  },
  {
   "cell_type": "code",
   "execution_count": null,
   "metadata": {},
   "outputs": [],
   "source": []
  },
  {
   "cell_type": "code",
   "execution_count": null,
   "metadata": {},
   "outputs": [],
   "source": []
  },
  {
   "cell_type": "code",
   "execution_count": null,
   "metadata": {},
   "outputs": [],
   "source": []
  },
  {
   "cell_type": "code",
   "execution_count": null,
   "metadata": {},
   "outputs": [],
   "source": []
  },
  {
   "cell_type": "code",
   "execution_count": null,
   "metadata": {},
   "outputs": [],
   "source": []
  }
 ],
 "metadata": {
  "kernelspec": {
   "display_name": "Python 3",
   "language": "python",
   "name": "python3"
  },
  "language_info": {
   "codemirror_mode": {
    "name": "ipython",
    "version": 3
   },
   "file_extension": ".py",
   "mimetype": "text/x-python",
   "name": "python",
   "nbconvert_exporter": "python",
   "pygments_lexer": "ipython3",
   "version": "3.7.6"
  }
 },
 "nbformat": 4,
 "nbformat_minor": 4
}
