{
 "cells": [
  {
   "cell_type": "markdown",
   "metadata": {},
   "source": [
    "# PYTHON INTERMEDIARE"
   ]
  },
  {
   "cell_type": "markdown",
   "metadata": {},
   "source": [
    "# MODULE 2"
   ]
  },
  {
   "cell_type": "code",
   "execution_count": 14,
   "metadata": {},
   "outputs": [
    {
     "name": "stdout",
     "output_type": "stream",
     "text": [
      "<class 'module'>\n",
      "<class 'module'>\n",
      "['C:\\\\Users\\\\ANGO\\\\anaconda3\\\\lib\\\\urllib']\n"
     ]
    },
    {
     "name": "stderr",
     "output_type": "stream",
     "text": [
      "erreur a la ligne 16: il n'y a plus d'element suivant module 'urllib.request' has no attribute '__path__'\n"
     ]
    }
   ],
   "source": [
    "#ORGANISATION DE LA STRUCTURE DES FICHIERS DANS UN PROGRAMME\n",
    "import urllib\n",
    "import urllib.request\n",
    "import sys\n",
    "\n",
    "print(type(urllib))\n",
    "print(type(urllib.request))\n",
    "#Dans ce cas, urllib.request est contenu dans urllib qui sont tous des modules donc on peut dire que urllib est un package\n",
    "#et donc urllib.request est un simple module\n",
    "\n",
    "try:\n",
    "    print(urllib.__path__)\n",
    "    print(urllib.request.__path__)\n",
    "except AttributeError as e:\n",
    "    print(\"erreur a la ligne 13: urllib.request n'est pas un package donc pas de directory\", e, file = sys.stderr)\n",
    "    \n",
    "\n"
   ]
  },
  {
   "cell_type": "code",
   "execution_count": 17,
   "metadata": {},
   "outputs": [
    {
     "name": "stdout",
     "output_type": "stream",
     "text": [
      "-----------------liste des dossier reconnu comme des REPL--------------\n"
     ]
    },
    {
     "data": {
      "text/plain": [
       "['C:\\\\Users\\\\ANGO',\n",
       " 'C:\\\\Users\\\\ANGO\\\\anaconda3\\\\python37.zip',\n",
       " 'C:\\\\Users\\\\ANGO\\\\anaconda3\\\\DLLs',\n",
       " 'C:\\\\Users\\\\ANGO\\\\anaconda3\\\\lib',\n",
       " 'C:\\\\Users\\\\ANGO\\\\anaconda3',\n",
       " '',\n",
       " 'C:\\\\Users\\\\ANGO\\\\anaconda3\\\\lib\\\\site-packages',\n",
       " 'C:\\\\Users\\\\ANGO\\\\anaconda3\\\\lib\\\\site-packages\\\\win32',\n",
       " 'C:\\\\Users\\\\ANGO\\\\anaconda3\\\\lib\\\\site-packages\\\\win32\\\\lib',\n",
       " 'C:\\\\Users\\\\ANGO\\\\anaconda3\\\\lib\\\\site-packages\\\\Pythonwin',\n",
       " 'C:\\\\Users\\\\ANGO\\\\anaconda3\\\\lib\\\\site-packages\\\\IPython\\\\extensions',\n",
       " 'C:\\\\Users\\\\ANGO\\\\.ipython']"
      ]
     },
     "execution_count": 17,
     "metadata": {},
     "output_type": "execute_result"
    }
   ],
   "source": [
    "#LA LISTE DES DOSSIERS D'UN PROJET: SYS.PATH\n",
    "\n",
    "#pour qu'un fichier soit executer son dossier dois se trouver dans le sys.path les listes de REPL\n",
    "print(\"-----------------liste des dossier reconnu comme des REPL--------------\")\n",
    "sys.path"
   ]
  },
  {
   "cell_type": "code",
   "execution_count": 23,
   "metadata": {},
   "outputs": [
    {
     "name": "stdout",
     "output_type": "stream",
     "text": [
      "Python found me!!\n"
     ]
    }
   ],
   "source": [
    "import sys\n",
    "try:\n",
    "    import path_test#Cette ligne produit une erreure ModuleNotFoundError\n",
    "except ModuleNotFoundError as e:\n",
    "    print(e, file=sys.stderr)\n",
    "finally:\n",
    "    sys.path.append('not_searched')#On ajoute le dossier contenant le module path_test\n",
    "    import path_test\n",
    "    path_test.found()"
   ]
  },
  {
   "cell_type": "code",
   "execution_count": 32,
   "metadata": {},
   "outputs": [
    {
     "data": {
      "text/plain": [
       "'C:\\\\Users\\\\ANGO\\\\reader\\\\__init__.py'"
      ]
     },
     "execution_count": 32,
     "metadata": {},
     "output_type": "execute_result"
    }
   ],
   "source": [
    "#################CREATION D'UN PACKAGE###################\n",
    "import reader    #le dossier >>>reader est un package\n",
    "type(reader)\n",
    "reader.__file__"
   ]
  },
  {
   "cell_type": "code",
   "execution_count": 46,
   "metadata": {},
   "outputs": [
    {
     "name": "stdout",
     "output_type": "stream",
     "text": [
      "C:\\Users\\ANGO\\reader\\reader.py\n",
      "class Reader:\n",
      "\tdef __init__(self, filename):\n",
      "\t\tself.filename = filename\n",
      "\t\tself.f = open(self.filename, 'rt')\n",
      "\n",
      "\tdef  close(self):\n",
      "\t\tself.f.close()\n",
      "\n",
      "\tdef read(self):\n",
      "\t\treturn self.f.read()\n",
      "\t\t\n"
     ]
    },
    {
     "data": {
      "text/plain": [
       "reader.reader.Reader"
      ]
     },
     "execution_count": 46,
     "metadata": {},
     "output_type": "execute_result"
    }
   ],
   "source": [
    "import reader.reader\n",
    "print(reader.reader.__file__) #On constate que le 2e reader est un fichier\n",
    "#A l'intérieur de reader.py il y a une classe Reader qui ouvre un ficher en lecture grace aux fonctions\n",
    "r = reader.reader.Reader('reader/reader.py')\n",
    "#lorsque la classe Reader est appeler le constructeur est directement executer \n",
    "#c'est poukoi on donne en paramètre l'argument demander par le constructeur (un filename)\n",
    "#car le constructeur ouvre un fichier en lecture: ce filename sera stocker dans \"r\" \n",
    "#qui est un objet de la classe Reader\n",
    "\n",
    "print(r.read())# il va donc lire le contenu du fichier 'reader.py'\n",
    "\n",
    "r.close()\n",
    "\n",
    "type(r)"
   ]
  },
  {
   "cell_type": "code",
   "execution_count": 58,
   "metadata": {},
   "outputs": [
    {
     "name": "stdout",
     "output_type": "stream",
     "text": [
      "from reader.reader import Reader\n",
      "\n"
     ]
    }
   ],
   "source": [
    "#On va tenter d'importer directement en faisant[from reader.reader import Reader] dans le fichier __init__\n",
    "\n",
    "import reader\n",
    "\n",
    "r = reader.reader.Reader('reader/__init__.py')\n",
    "print(r.read())\n",
    "\n",
    "r.close()\n"
   ]
  },
  {
   "cell_type": "markdown",
   "metadata": {},
   "source": [
    "# MODULE 3"
   ]
  },
  {
   "cell_type": "code",
   "execution_count": 59,
   "metadata": {},
   "outputs": [
    {
     "data": {
      "text/plain": [
       "<function __main__.resolve(host)>"
      ]
     },
     "execution_count": 59,
     "metadata": {},
     "output_type": "execute_result"
    }
   ],
   "source": [
    "import socket\n",
    "def resolve(host):\n",
    "    return socket.gethostbyname(host)\n",
    "\n",
    "resolve"
   ]
  },
  {
   "cell_type": "code",
   "execution_count": 64,
   "metadata": {},
   "outputs": [
    {
     "ename": "ModuleNotFoundError",
     "evalue": "No module named 'resolve'",
     "output_type": "error",
     "traceback": [
      "\u001b[1;31m---------------------------------------------------------------------------\u001b[0m",
      "\u001b[1;31mModuleNotFoundError\u001b[0m                       Traceback (most recent call last)",
      "\u001b[1;32m<ipython-input-64-f8654bcaf47e>\u001b[0m in \u001b[0;36m<module>\u001b[1;34m\u001b[0m\n\u001b[0;32m      1\u001b[0m \u001b[1;32mimport\u001b[0m \u001b[0msys\u001b[0m\u001b[1;33m\u001b[0m\u001b[1;33m\u001b[0m\u001b[0m\n\u001b[0;32m      2\u001b[0m \u001b[0msys\u001b[0m\u001b[1;33m.\u001b[0m\u001b[0mpath\u001b[0m\u001b[1;33m.\u001b[0m\u001b[0mappend\u001b[0m\u001b[1;33m(\u001b[0m\u001b[1;34m'resolve'\u001b[0m\u001b[1;33m)\u001b[0m\u001b[1;33m\u001b[0m\u001b[1;33m\u001b[0m\u001b[0m\n\u001b[1;32m----> 3\u001b[1;33m \u001b[1;32mimport\u001b[0m \u001b[0mresolve\u001b[0m\u001b[1;33m\u001b[0m\u001b[1;33m\u001b[0m\u001b[0m\n\u001b[0m",
      "\u001b[1;31mModuleNotFoundError\u001b[0m: No module named 'resolve'"
     ]
    }
   ],
   "source": [
    "import sys\n",
    "sys.path.append('resolve')\n",
    "import resolve"
   ]
  },
  {
   "cell_type": "markdown",
   "metadata": {},
   "source": [
    "# MODULE 4 "
   ]
  },
  {
   "cell_type": "code",
   "execution_count": 2,
   "metadata": {},
   "outputs": [
    {
     "name": "stdout",
     "output_type": "stream",
     "text": [
      "global param local\n"
     ]
    }
   ],
   "source": [
    "#LOCAL FUCTIONS\n",
    "\n",
    "g = 'global'\n",
    "def outer(p='param'):\n",
    "    l = 'local'\n",
    "    def inner():#la fonction interne peux utiliser les variable globale, locale, parametre\n",
    "        print(g, p, l)\n",
    "    \n",
    "    inner()\n",
    "\n",
    "outer()"
   ]
  },
  {
   "cell_type": "code",
   "execution_count": 6,
   "metadata": {},
   "outputs": [
    {
     "name": "stdout",
     "output_type": "stream",
     "text": [
      "local func\n",
      "clos\n",
      "None\n"
     ]
    },
    {
     "data": {
      "text/plain": [
       "(<cell at 0x00000086D9F735E8: str object at 0x00000086D9D557F0>,)"
      ]
     },
     "execution_count": 6,
     "metadata": {},
     "output_type": "execute_result"
    }
   ],
   "source": [
    "def enclosing():\n",
    "    x = 'clos'\n",
    "    def local_func():\n",
    "        print(\"local func\")\n",
    "        print(x)\n",
    "    return local_func\n",
    "\n",
    "lf = enclosing()\n",
    "print(lf())\n",
    "lf.__closure__#closure permet de garder la variable 'x' pour qu'elle soit utilisable par la local_func"
   ]
  },
  {
   "cell_type": "code",
   "execution_count": 10,
   "metadata": {},
   "outputs": [
    {
     "data": {
      "text/plain": [
       "25"
      ]
     },
     "execution_count": 10,
     "metadata": {},
     "output_type": "execute_result"
    }
   ],
   "source": [
    "def raise_to(exp):\n",
    "    def raise_to_exp(x):\n",
    "        return pow(x, exp)\n",
    "    return raise_to_exp\n",
    "\n",
    "square = raise_to(2)#comme toujours la fonction locale utilise l'argument de la fonction globale\n",
    "square(5)"
   ]
  },
  {
   "cell_type": "code",
   "execution_count": 11,
   "metadata": {},
   "outputs": [
    {
     "name": "stdout",
     "output_type": "stream",
     "text": [
      "global message:  global\n",
      "enclosing message:  global\n",
      "enclosing message:  local\n",
      "global message:  local\n"
     ]
    }
   ],
   "source": [
    "#-----------------Utilisation du mot clé \"global\" et \"non local\"--------------------#\n",
    "\n",
    "message = 'global'\n",
    "\n",
    "def enclosing():\n",
    "    messsage = \"enclosing\"\n",
    "    \n",
    "    def local():\n",
    "        global message # nonlocal message on obtien le meme resultat\n",
    "        message = 'local'#non local met la variable local en mode global\n",
    "        \n",
    "    print(\"enclosing message: \", message)#2e\n",
    "    local()\n",
    "    print('enclosing message: ', message)#3e\n",
    "    \n",
    "print('global message: ', message)#1er\n",
    "enclosing()\n",
    "print('global message: ', message)#4e"
   ]
  },
  {
   "cell_type": "code",
   "execution_count": 29,
   "metadata": {},
   "outputs": [
    {
     "name": "stdout",
     "output_type": "stream",
     "text": [
      "noop_wrapper\n",
      "None\n",
      "Help on function noop_wrapper in module __main__:\n",
      "\n",
      "noop_wrapper()\n",
      "\n"
     ]
    }
   ],
   "source": [
    "#--------les decorator-----------------#\n",
    "import functools\n",
    "\n",
    "def noop(f):\n",
    "    @functools.wraps(f)#ceci permet a ce que lors de l'appel de la fonction hello \n",
    "    def noop_wrapper():#qu'il ny ai pa perte d'info que la fonction 'noop_wrapper' n'ecrase pas 'hello'\n",
    "        return f()\n",
    "    return noop_wrapper\n",
    "\n",
    "@noop\n",
    "def hello():#son idendité est maintenant celle de noop_wrapper\n",
    "    \"print a welcomme message\"\n",
    "    print(\"hello world! \")\n",
    "\n",
    "print(hello.__name__)\n",
    "print(hello.__doc__)\n",
    "help(hello)"
   ]
  },
  {
   "cell_type": "code",
   "execution_count": 37,
   "metadata": {},
   "outputs": [
    {
     "name": "stdout",
     "output_type": "stream",
     "text": [
      "hello\n",
      "print a welcomme message\n",
      "None\n",
      "\n",
      "Help on function hello in module __main__:\n",
      "\n",
      "hello(a)\n",
      "    print a welcomme message\n",
      "\n"
     ]
    }
   ],
   "source": [
    "def hello(a):\n",
    "    \"print a welcomme message\"\n",
    "    print(\"hello world! \")\n",
    "    return a\n",
    "print(hello.__name__)#affiche le nom de la fonction\n",
    "print(hello.__doc__)#affiche la documentation\n",
    "print(hello.__closure__)\n",
    "print()\n",
    "help(hello)"
   ]
  },
  {
   "cell_type": "code",
   "execution_count": 34,
   "metadata": {},
   "outputs": [
    {
     "name": "stdout",
     "output_type": "stream",
     "text": [
      "['a', 'a', 'a']\n"
     ]
    },
    {
     "ename": "ValueError",
     "evalue": "Argument 1 must be non_negative.",
     "output_type": "error",
     "traceback": [
      "\u001b[1;31m---------------------------------------------------------------------------\u001b[0m",
      "\u001b[1;31mValueError\u001b[0m                                Traceback (most recent call last)",
      "\u001b[1;32m<ipython-input-34-4d4fd8e9f044>\u001b[0m in \u001b[0;36m<module>\u001b[1;34m\u001b[0m\n\u001b[0;32m     15\u001b[0m \u001b[0mprint\u001b[0m\u001b[1;33m(\u001b[0m\u001b[0mcreate_list\u001b[0m\u001b[1;33m(\u001b[0m\u001b[1;34m'a'\u001b[0m\u001b[1;33m,\u001b[0m \u001b[1;36m3\u001b[0m\u001b[1;33m)\u001b[0m\u001b[1;33m)\u001b[0m\u001b[1;33m\u001b[0m\u001b[1;33m\u001b[0m\u001b[0m\n\u001b[0;32m     16\u001b[0m \u001b[1;33m\u001b[0m\u001b[0m\n\u001b[1;32m---> 17\u001b[1;33m \u001b[0mcreate_list\u001b[0m\u001b[1;33m(\u001b[0m\u001b[1;34m'a'\u001b[0m\u001b[1;33m,\u001b[0m \u001b[1;33m-\u001b[0m\u001b[1;36m6\u001b[0m\u001b[1;33m)\u001b[0m\u001b[1;33m\u001b[0m\u001b[1;33m\u001b[0m\u001b[0m\n\u001b[0m\u001b[0;32m     18\u001b[0m \u001b[1;33m\u001b[0m\u001b[0m\n\u001b[0;32m     19\u001b[0m \u001b[1;33m\u001b[0m\u001b[0m\n",
      "\u001b[1;32m<ipython-input-34-4d4fd8e9f044>\u001b[0m in \u001b[0;36mwrap\u001b[1;34m(*args)\u001b[0m\n\u001b[0;32m      3\u001b[0m         \u001b[1;32mdef\u001b[0m \u001b[0mwrap\u001b[0m\u001b[1;33m(\u001b[0m\u001b[1;33m*\u001b[0m\u001b[0margs\u001b[0m\u001b[1;33m)\u001b[0m\u001b[1;33m:\u001b[0m\u001b[1;33m\u001b[0m\u001b[1;33m\u001b[0m\u001b[0m\n\u001b[0;32m      4\u001b[0m             \u001b[1;32mif\u001b[0m \u001b[0margs\u001b[0m\u001b[1;33m[\u001b[0m\u001b[0mindex\u001b[0m\u001b[1;33m]\u001b[0m \u001b[1;33m<\u001b[0m \u001b[1;36m0\u001b[0m\u001b[1;33m:\u001b[0m\u001b[1;33m\u001b[0m\u001b[1;33m\u001b[0m\u001b[0m\n\u001b[1;32m----> 5\u001b[1;33m                 \u001b[1;32mraise\u001b[0m \u001b[0mValueError\u001b[0m\u001b[1;33m(\u001b[0m\u001b[1;34m'Argument {} must be non_negative.'\u001b[0m\u001b[1;33m.\u001b[0m\u001b[0mformat\u001b[0m\u001b[1;33m(\u001b[0m\u001b[0mindex\u001b[0m\u001b[1;33m)\u001b[0m\u001b[1;33m)\u001b[0m\u001b[1;33m\u001b[0m\u001b[1;33m\u001b[0m\u001b[0m\n\u001b[0m\u001b[0;32m      6\u001b[0m             \u001b[1;32mreturn\u001b[0m \u001b[0mf\u001b[0m\u001b[1;33m(\u001b[0m\u001b[1;33m*\u001b[0m\u001b[0margs\u001b[0m\u001b[1;33m)\u001b[0m\u001b[1;33m\u001b[0m\u001b[1;33m\u001b[0m\u001b[0m\n\u001b[0;32m      7\u001b[0m         \u001b[1;32mreturn\u001b[0m \u001b[0mwrap\u001b[0m\u001b[1;33m\u001b[0m\u001b[1;33m\u001b[0m\u001b[0m\n",
      "\u001b[1;31mValueError\u001b[0m: Argument 1 must be non_negative."
     ]
    }
   ],
   "source": [
    "def check_non_negative(index):\n",
    "    def validator(f):\n",
    "        def wrap(*args):\n",
    "            if args[index] < 0:\n",
    "                raise ValueError('Argument {} must be non_negative.'.format(index))\n",
    "            return f(*args)\n",
    "        return wrap\n",
    "    return validator\n",
    "\n",
    "@check_non_negative(1)\n",
    "def create_list(value, size):\n",
    "    return [value] * size\n",
    "    \n",
    "            \n",
    "print(create_list('a', 3))\n",
    "\n",
    "create_list('a', -6)\n",
    "\n",
    "            \n",
    "\n",
    "\n",
    "    "
   ]
  },
  {
   "cell_type": "code",
   "execution_count": null,
   "metadata": {},
   "outputs": [],
   "source": [
    "import functools\n",
    "def second_decorator(f):\n",
    "    @functools.wraps(f)\n",
    "    def affiche(*args):\n",
    "        f = 10\n",
    "        return f\n",
    "    return affiche\n",
    "    \n",
    "\n",
    "def logging_decorator(func):\n",
    "    @functools.wraps(func)\n",
    "    def logging_wrapper(*args, **kwargs):\n",
    "        print(func.__name__  + \" was called\")\n",
    "        print(args[0])#cette ligne recupere l'argument qui est entré en parametre dans 'some_function'\n",
    "        return func(*args, **kwargs)#on peut modifier le retour de 'some_function' en modifiant\n",
    "                                    #celui de 'logging_wrapper'\n",
    "    \n",
    "    return logging_wrapper\n",
    "\n",
    "\n",
    "@second_decorator   #lorsqu'on a plusieurs on execute dans l'ordre inverse\n",
    "@logging_decorator\n",
    "def some_function(x):\n",
    "    \"\"\"A decorated function\"\"\"\n",
    "    return x * x\n",
    "##lorsqu'on appel (some_function) on execute d'abord (logging_wrapper)\n",
    "print(some_function(5))\n",
    "    \n",
    "    "
   ]
  },
  {
   "cell_type": "markdown",
   "metadata": {},
   "source": [
    "# MODULE 5"
   ]
  },
  {
   "cell_type": "code",
   "execution_count": 60,
   "metadata": {},
   "outputs": [
    {
     "name": "stdout",
     "output_type": "stream",
     "text": [
      "1991\n",
      "1992\n",
      "1992\n",
      "\n",
      "1992\n",
      "1991\n",
      "\n"
     ]
    },
    {
     "data": {
      "text/plain": [
       "1992"
      ]
     },
     "execution_count": 60,
     "metadata": {},
     "output_type": "execute_result"
    }
   ],
   "source": [
    "#Le mot cle 'self' cree les variables d'instance et non de classe\n",
    "\n",
    "class ShippingContainer:\n",
    "    \n",
    "    next_serial = 1991\n",
    "    \n",
    "    def __init__(self, owner_code, contents):\n",
    "        self.owner_code = owner_code\n",
    "        self.contents = contents\n",
    "        self.serial = ShippingContainer.next_serial\n",
    "        ShippingContainer.next_serial += 1\n",
    "        \n",
    "\n",
    "c1 = ShippingContainer(\"james\", \"yml\")\n",
    "print(c1.serial)\n",
    "print(ShippingContainer.next_serial)\n",
    "print(c1.next_serial)\n",
    "print()\n",
    "print(ShippingContainer.next_serial)\n",
    "print(c1.serial)\n",
    "print()\n",
    "\n",
    "c2 =ShippingContainer(\"year\", \"sdloop\")\n",
    "c2.serial"
   ]
  },
  {
   "cell_type": "markdown",
   "metadata": {},
   "source": []
  },
  {
   "cell_type": "code",
   "execution_count": 66,
   "metadata": {},
   "outputs": [
    {
     "data": {
      "text/plain": [
       "1992"
      ]
     },
     "execution_count": 66,
     "metadata": {},
     "output_type": "execute_result"
    }
   ],
   "source": [
    "class ShippingContainer:\n",
    "    \n",
    "    next_serial = 1991\n",
    "    @staticmethod #On rend une methode static en utilisant le decorator \"@staticmethod\"\n",
    "    def _get_next_serial():\n",
    "        result = ShippingContainer.next_serial\n",
    "        ShippingContainer.next_serial += 1\n",
    "        return result\n",
    "    \n",
    "    \n",
    "    def __init__(self, owner_code, contents):\n",
    "        self.owner_code = owner_code\n",
    "        self.contents = contents\n",
    "        self.serial = ShippingContainer._get_next_serial()\n",
    "i = ShippingContainer(\"yil\", \"boom\")\n",
    "i.serial\n",
    "i.next_serial\n",
    "ShippingContainer._get_next_serial()"
   ]
  },
  {
   "cell_type": "code",
   "execution_count": 68,
   "metadata": {},
   "outputs": [],
   "source": [
    "class ShippingContainer:\n",
    "    \n",
    "    next_serial = 1991\n",
    "    @classmethod #On rend une methode en \"methode de classe\"en utilisant le decorator \"@classmethod\"\n",
    "    def _get_next_serial(cls):#on ajoute l'argument \"cls\"\n",
    "        result = cls.next_serial #le nom de la classe est remplacer par \"cls\"\n",
    "        cls.next_serial += 1\n",
    "        return result\n",
    "    \n",
    "    \n",
    "    def __init__(self, owner_code, contents):\n",
    "        self.owner_code = owner_code\n",
    "        self.contents = contents\n",
    "        self.serial = ShippingContainer._get_next_serial()\n",
    "        \n",
    "        \n",
    "#NB \"classmethod\" demande l'acces a un objet de class or \"staticmethod\" acccede directement"
   ]
  },
  {
   "cell_type": "code",
   "execution_count": 73,
   "metadata": {},
   "outputs": [
    {
     "name": "stdout",
     "output_type": "stream",
     "text": [
      "<__main__.ShippingContainer object at 0x00000086DABE6C88>\n",
      "['food', 'model', 'nkap']\n"
     ]
    }
   ],
   "source": [
    "class ShippingContainer:\n",
    "    \n",
    "    next_serial = 1991\n",
    "    @classmethod #On rend une methode en \"methode de classe\"en utilisant le decorator \"@classmethod\"\n",
    "    def _get_next_serial(cls):#on ajoute l'argument \"cls\"\n",
    "        result = cls.next_serial #le nom de la classe est remplacer par \"cls\"\n",
    "        cls.next_serial += 1\n",
    "        return result\n",
    "    \n",
    "    @classmethod\n",
    "    def create_empty(cls, owner_code):\n",
    "        return cls(owner_code, contents= None)\n",
    "    \n",
    "    @classmethod\n",
    "    def create_with_items(cls, owner_code, items):\n",
    "        return cls(owner_code, contents = list(items))\n",
    "    \n",
    "    \n",
    "    def __init__(self, owner_code, contents):\n",
    "        self.owner_code = owner_code\n",
    "        self.contents = contents\n",
    "        self.serial = ShippingContainer._get_next_serial()\n",
    "        \n",
    "        \n",
    "r = ShippingContainer.create_with_items('mao', ['food','model','nkap'])\n",
    "print(r)\n",
    "print(r.contents)"
   ]
  },
  {
   "cell_type": "markdown",
   "metadata": {},
   "source": [
    "# MODULE 7"
   ]
  },
  {
   "cell_type": "code",
   "execution_count": 86,
   "metadata": {},
   "outputs": [
    {
     "name": "stdout",
     "output_type": "stream",
     "text": [
      "a = 0.7000000000000000388578058619\n",
      " b = 0.7\n",
      "22/15\n",
      "1/10\n",
      "\n",
      "\n"
     ]
    },
    {
     "data": {
      "text/plain": [
       "(3+4j)"
      ]
     },
     "execution_count": 86,
     "metadata": {},
     "output_type": "execute_result"
    }
   ],
   "source": [
    "from decimal import Decimal\n",
    "\n",
    "a = Decimal(0.8) - Decimal(0.1)\n",
    "b = Decimal('0.8') - Decimal('0.1')\n",
    "\n",
    "print(f\"a = {a}\\n b = {b}\")\n",
    "\n",
    "from fractions import Fraction\n",
    "\n",
    "a = Fraction(2, 3) + Fraction(4, 5)\n",
    "print(a)\n",
    "\n",
    "print(Fraction(Decimal('0.1')))\n",
    "print(\"\\n\")\n",
    "\n",
    "3 + 4j"
   ]
  },
  {
   "cell_type": "code",
   "execution_count": 1,
   "metadata": {},
   "outputs": [
    {
     "name": "stdout",
     "output_type": "stream",
     "text": [
      "2014-01-06\n",
      "2020-05-05\n",
      "2020-06-28\n",
      "1970-01-12\n",
      "2041-09-28\n",
      "28/6/2020\n",
      "les jours de la semaine lundi = 0 donc vendredi est le 4e jour:  6\n",
      "les jours de la semaine lundi = 1 vendredi le 5e jour:  7\n",
      "2020-06-28\n",
      "Sunday 28 June 2020\n",
      "The date is: Sunday 28 June 2020\n",
      "la date est: Monday 6 January year\n",
      "\n",
      "0001-01-01\n",
      "9999-12-31\n",
      "------------------------------------------------\n",
      "20:07:59.009999\n",
      "10\n",
      "32\n",
      "47\n",
      "675623\n",
      "isoformat 10:32:47.675623\n",
      "\n",
      "string format time:  10h32m47s\n",
      "------ 10h32m47s\n",
      "23:59:59.999999\n",
      "00:00:00\n",
      "0:00:00.000001\n",
      "---------------------------------------------------------------\n"
     ]
    },
    {
     "data": {
      "text/plain": [
       "datetime.datetime(2020, 6, 28, 2, 3, 51, 91634)"
      ]
     },
     "execution_count": 1,
     "metadata": {},
     "output_type": "execute_result"
    }
   ],
   "source": [
    "#DATE TIME\n",
    "\n",
    "\n",
    "import datetime\n",
    "print(datetime.date(2014, 1, 6))\n",
    "print(datetime.date(year=2020, month=5, day=5))\n",
    "print(datetime.date.today())\n",
    "print(datetime.date.fromtimestamp(1000000))\n",
    "print(datetime.date.fromordinal(745366))\n",
    "d = datetime.date.today()\n",
    "\n",
    "print(f'{d.day}/{d.month}/{d.year}')\n",
    "\n",
    "print(\"les jours de la semaine lundi = 0 donc vendredi est le 4e jour: \", d.weekday())\n",
    "print(\"les jours de la semaine lundi = 1 vendredi le 5e jour: \", d.isoweekday())\n",
    "print(d.isoformat())\n",
    "#%A donne le jour de la semaine %d donne le jour du mois %B le moi et %Y l'année\n",
    "print(d.strftime('%A %d %B %Y'))\n",
    "e = datetime.date(2014, 1, 6)\n",
    "#print(e.strftime('%A %-d %B %Y'))#pour enlever le zero (%-d) sur le jour du moi mais marche p partout\n",
    "print('The date is: {:%A %d %B %Y}'.format(d))\n",
    "print(\"la date est: {date:%A} {date.day} {date:%B} {date:year}\".format(date=e))\n",
    "\n",
    "print()\n",
    "print(datetime.date.min)\n",
    "print(datetime.date.max)\n",
    "################# date type#####################################\n",
    "print('------------------------------------------------')\n",
    "print(datetime.time(hour=20, minute=7, second=59, microsecond=9999))\n",
    "t = datetime.time(10, 32, 47, 675623)\n",
    "print(t.hour)\n",
    "print(t.minute)\n",
    "print(t.second)\n",
    "print(t.microsecond)\n",
    "print(\"isoformat\",t.isoformat())\n",
    "\n",
    "print()\n",
    "print(\"string format time: \", t.strftime('%Hh%Mm%Ss'))\n",
    "print(\"------ {t.hour}h{t.minute}m{t.second}s\".format(t=t))\n",
    "\n",
    "print(datetime.time.max)\n",
    "print(datetime.time.min)\n",
    "print(datetime.time.resolution)\n",
    "\n",
    "#################################### MIX TIME EN DATE #################################\n",
    "print('---------------------------------------------------------------')\n",
    "from datetime import datetime\n",
    "datetime.today()\n",
    "\n",
    "\n",
    "\n",
    "\n"
   ]
  },
  {
   "cell_type": "code",
   "execution_count": 168,
   "metadata": {},
   "outputs": [
    {
     "name": "stdout",
     "output_type": "stream",
     "text": [
      "2020-05-07 11:09:12.963650\n",
      "temps universel:  2020-05-07 08:09:12.964647\n",
      "2020-05-07 08:15:00\n",
      "string parse time\n",
      "2014-01-06 12:13:31\n",
      "-------------------------indexing avec l'objet dt-------------\n",
      "jour 6\n",
      "temps:  12:13:31\n",
      "date:  2014-01-06\n",
      "isoformat:  2014-01-06T12:13:31\n",
      "--------------------TIME DELTA---------------\n",
      "0:00:00.011000\n",
      "7 days, 0:02:05.500000\n",
      "7\n",
      "125\n",
      "500000\n",
      "7 days, 0:02:05.500000\n",
      "datetime.timedelta(days=7, seconds=125, microseconds=500000)\n",
      "----------operation arithmetique avec le datetime------------------\n",
      "a: 2020-05-08 14:22:00\n",
      "b: 2020-03-14 12:09:00\n",
      "a - b :55 days, 2:13:00\n",
      "conversion en seconde:  4759980.0\n",
      "--------------FUSEAU HORAIRE avec TIME ZONE---------------------------------\n",
      "temps ecoulé\n"
     ]
    },
    {
     "data": {
      "text/plain": [
       "'-1 day, 23:25:00'"
      ]
     },
     "execution_count": 168,
     "metadata": {},
     "output_type": "execute_result"
    }
   ],
   "source": [
    "import datetime\n",
    "print(datetime.datetime.now())\n",
    "print(\"temps universel: \", datetime.datetime.utcnow())\n",
    "d = datetime.date.today()\n",
    "t = datetime.time(8, 15)\n",
    "print(datetime.datetime.combine(d, t))\n",
    "print(\"string parse time\")\n",
    "dt = datetime.datetime.strptime(\"Monday 6 January 2014, 12:13:31\",\"%A %d %B %Y, %H:%M:%S\")\n",
    "\n",
    "print(dt)\n",
    "print('-------------------------indexing avec l\\'objet dt-------------')\n",
    "print(\"jour\",dt.day)\n",
    "print(\"temps: \",dt.time())\n",
    "print(\"date: \", dt.date())\n",
    "\n",
    "print(\"isoformat: \", dt.isoformat())\n",
    "\n",
    "print(\"--------------------TIME DELTA---------------\")\n",
    "print(datetime.timedelta(milliseconds=1, microseconds=10000))\n",
    "td = datetime.timedelta(weeks=1, minutes=2, milliseconds=5500)\n",
    "print(td)\n",
    "print(td.days)\n",
    "print(td.seconds)\n",
    "print(td.microseconds)\n",
    "\n",
    "print(str(td))\n",
    "print(repr(td))\n",
    "print('----------operation arithmetique avec le datetime------------------')\n",
    "\n",
    "a = datetime.datetime(year=2020, month=5, day=8, hour=14, minute=22)\n",
    "b = datetime.datetime(year=2020, month=3, day=14, hour=12, minute=9)\n",
    "print(f'a: {a}\\nb: {b}\\na - b :{a-b}')\n",
    "d = a-b\n",
    "print(\"conversion en seconde: \", d.total_seconds())\n",
    "d  = datetime.date.today() + datetime.timedelta(weeks=1) * 3\n",
    "repr(d)\n",
    "\n",
    "print(\"--------------FUSEAU HORAIRE avec TIME ZONE---------------------------------\")\n",
    "\n",
    "cet = datetime.timezone(datetime.timedelta(hours=1))\n",
    "str(cet)\n",
    "depart = datetime.datetime(year=2020, month=1, day=7, hour=13, minute=30, tzinfo= cet)\n",
    "arrivee = datetime.datetime(year=2020, month=1, day=7, hour=13, minute=5, tzinfo=datetime.timezone.utc)\n",
    "print(\"temps ecoulé\")\n",
    "str(depart - arrivee)\n"
   ]
  },
  {
   "cell_type": "markdown",
   "metadata": {},
   "source": [
    "# MODULE 8   #####################################################"
   ]
  },
  {
   "cell_type": "code",
   "execution_count": 180,
   "metadata": {},
   "outputs": [
    {
     "name": "stdout",
     "output_type": "stream",
     "text": [
      "<class 'list'>\n",
      "['__add__', '__class__', '__contains__', '__delattr__', '__delitem__', '__dir__', '__doc__', '__eq__', '__format__', '__ge__', '__getattribute__', '__getitem__', '__gt__', '__hash__', '__iadd__', '__imul__', '__init__', '__init_subclass__', '__iter__', '__le__', '__len__', '__lt__', '__mul__', '__ne__', '__new__', '__reduce__', '__reduce_ex__', '__repr__', '__reversed__', '__rmul__', '__setattr__', '__setitem__', '__sizeof__', '__str__', '__subclasshook__', 'append', 'clear', 'copy', 'count', 'extend', 'index', 'insert', 'pop', 'remove', 'reverse', 'sort']\n",
      "[0, 2, 4, 6, 8, 10, 12, 14, 16, 18, 42]\n",
      "<class 'dict'>\n",
      "<class 'set'>\n",
      "<class 'generator'>\n",
      "[0, 1, 2, 3, 4, 5, 6, 7, 8, 9]\n",
      "[(0, 0), (0, 1), (0, 2), (1, 0), (1, 1), (1, 2), (2, 0), (2, 1), (2, 2), (3, 0), (3, 1), (3, 2), (4, 0), (4, 1), (4, 2)]\n",
      "Son équivalent losqu'on détache: \n",
      "[(0, 0), (0, 1), (0, 2), (1, 0), (1, 1), (1, 2), (2, 0), (2, 1), (2, 2), (3, 0), (3, 1), (3, 2), (4, 0), (4, 1), (4, 2)]\n"
     ]
    }
   ],
   "source": [
    "##### ---------------------MUTIPLE INPUT COMPREHENSION-------------------------------#\n",
    "l = [i * 2 for i in range(10)]\n",
    "\n",
    "print(type(l))\n",
    "print(repr(dir(l)))\n",
    "l.append(42)\n",
    "print(l)\n",
    "\n",
    "d = {i: i * 2 for i in range(10)}\n",
    "print(type(d))\n",
    "s = {i for i in range(10)}\n",
    "print(type(s))\n",
    "g = (i for i in range(10))\n",
    "print(type(g))\n",
    "print(list(g))\n",
    "\n",
    "n = [(x, y) for x in range(5) for y in range(3)]\n",
    "print(n)\n",
    "print(\"Son équivalent losqu'on détache: \")\n",
    "point = []\n",
    "for x in range(5):\n",
    "    for y in range(3):\n",
    "        point.append((x, y))\n",
    "\n",
    "print(point)\n",
    "print('\\n\\n')\n",
    "\n",
    "\n",
    "values = [x/(x-y) for x in range(100) if x >50 for y in range(100) if (x-y)!=0]\n",
    "print(\"-------------------------son équivalent est: -------------------\")\n",
    "values = []\n",
    "\n",
    "for x in range(100):\n",
    "    if x > 50:\n",
    "        \n",
    "\n",
    "\n",
    "\n"
   ]
  },
  {
   "cell_type": "code",
   "execution_count": null,
   "metadata": {},
   "outputs": [],
   "source": []
  },
  {
   "cell_type": "code",
   "execution_count": null,
   "metadata": {},
   "outputs": [],
   "source": []
  }
 ],
 "metadata": {
  "kernelspec": {
   "display_name": "Python 3",
   "language": "python",
   "name": "python3"
  },
  "language_info": {
   "codemirror_mode": {
    "name": "ipython",
    "version": 3
   },
   "file_extension": ".py",
   "mimetype": "text/x-python",
   "name": "python",
   "nbconvert_exporter": "python",
   "pygments_lexer": "ipython3",
   "version": "3.7.6"
  }
 },
 "nbformat": 4,
 "nbformat_minor": 4
}
