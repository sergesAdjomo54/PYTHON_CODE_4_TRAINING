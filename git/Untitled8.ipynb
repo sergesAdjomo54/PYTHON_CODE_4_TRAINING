{
 "cells": [
  {
   "cell_type": "code",
   "execution_count": 5,
   "metadata": {},
   "outputs": [
    {
     "name": "stdout",
     "output_type": "stream",
     "text": [
      "[[5 0 3]\n",
      " [3 7 9]]\n",
      "somme\n",
      "[ 8  7 12]\n",
      "cumusom\n",
      "[ 5  5  8 11 18 27]\n",
      "produit\n",
      "[  0 189]\n",
      "cumuprod\n",
      "[5 0 0 0 0 0]\n",
      "min\n",
      "[3 0 3]\n",
      "argmin\n",
      "[1 0 0]\n",
      "max\n",
      "[5 7 9]\n",
      "argmax\n",
      "[0 2]\n",
      "sort\n",
      "None\n",
      "argsort\n",
      "[[1 0 2]\n",
      " [0 1 2]]\n"
     ]
    }
   ],
   "source": [
    "import numpy as np\n",
    "\n",
    "np.random.seed(0)\n",
    "a = np.random.randint(0, 10, [2, 3])\n",
    "print(a)\n",
    "print(\"somme\")\n",
    "print(a.sum(axis=0))\n",
    "print(\"cumusom\")\n",
    "print(a.cumsum())\n",
    "print(\"produit\")\n",
    "print(a.prod(axis=1))\n",
    "print(\"cumuprod\")\n",
    "print(a.cumprod())\n",
    "print(\"min\")\n",
    "print(a.min(axis=0))\n",
    "print(\"argmin\")\n",
    "print(a.argmin(axis=0))\n",
    "print(\"max\")\n",
    "print(a.max(axis=0))\n",
    "print(\"argmax\")\n",
    "print(a.argmax(axis=1))\n",
    "print(\"sort\")\n",
    "print(a.sort(axis=0))\n",
    "print(\"argsort\")\n",
    "print(a.argsort(axis=1))"
   ]
  },
  {
   "cell_type": "code",
   "execution_count": 7,
   "metadata": {},
   "outputs": [
    {
     "name": "stdout",
     "output_type": "stream",
     "text": [
      "sinus\n",
      "[[ 0.14112001  0.          0.14112001]\n",
      " [-0.95892427  0.6569866   0.41211849]]\n",
      "sinius hyperbolique\n",
      "[[  10.01787493    0.           10.01787493]\n",
      " [  74.20321058  548.31612327 4051.54190208]]\n",
      "cosisus\n",
      "[[-0.9899925   1.         -0.9899925 ]\n",
      " [ 0.28366219  0.75390225 -0.91113026]]\n",
      "cosinus hyperbolique\n",
      "[[1.00676620e+01 1.00000000e+00 1.00676620e+01]\n",
      " [7.42099485e+01 5.48317035e+02 4.05154203e+03]]\n",
      "tangente\n",
      "[[-0.14254654  0.         -0.14254654]\n",
      " [-3.38051501  0.87144798 -0.45231566]]\n",
      "exponetiel\n",
      "[[2.00855369e+01 1.00000000e+00 2.00855369e+01]\n",
      " [1.48413159e+02 1.09663316e+03 8.10308393e+03]]\n",
      "logaritmique\n",
      "[[1.09861229       -inf 1.09861229]\n",
      " [1.60943791 1.94591015 2.19722458]]\n"
     ]
    },
    {
     "name": "stderr",
     "output_type": "stream",
     "text": [
      "C:\\Users\\ANGO\\anaconda3\\lib\\site-packages\\ipykernel_launcher.py:14: RuntimeWarning: divide by zero encountered in log\n",
      "  \n"
     ]
    }
   ],
   "source": [
    "print(\"sinus\")\n",
    "print(np.sin(a))\n",
    "print(\"sinius hyperbolique\")\n",
    "print(np.sinh(a))\n",
    "print(\"cosisus\")\n",
    "print(np.cos(a))\n",
    "print(\"cosinus hyperbolique\")\n",
    "print(np.cosh(a))\n",
    "print(\"tangente\")\n",
    "print(np.tan(a))\n",
    "print(\"exponetiel\")\n",
    "print(np.exp(a))\n",
    "print(\"logaritmique\")\n",
    "print(np.log(a))\n"
   ]
  },
  {
   "cell_type": "markdown",
   "metadata": {},
   "source": [
    "# statistique avec numpy"
   ]
  },
  {
   "cell_type": "markdown",
   "metadata": {},
   "source": [
    "print(\"calcul de la moyenne\")\n",
    "print(a.mean())\n",
    "prinrt(\"ecartype\")\n",
    "print(a.std())\n",
    "print(\"Variance\")   \n",
    "print(a.var())\n",
    "#on peut aussi le faire avec les axis........"
   ]
  },
  {
   "cell_type": "code",
   "execution_count": null,
   "metadata": {},
   "outputs": [],
   "source": []
  },
  {
   "cell_type": "code",
   "execution_count": null,
   "metadata": {},
   "outputs": [],
   "source": []
  },
  {
   "cell_type": "code",
   "execution_count": null,
   "metadata": {},
   "outputs": [],
   "source": []
  },
  {
   "cell_type": "code",
   "execution_count": null,
   "metadata": {},
   "outputs": [],
   "source": []
  },
  {
   "cell_type": "code",
   "execution_count": null,
   "metadata": {},
   "outputs": [],
   "source": []
  }
 ],
 "metadata": {
  "kernelspec": {
   "display_name": "Python 3",
   "language": "python",
   "name": "python3"
  },
  "language_info": {
   "codemirror_mode": {
    "name": "ipython",
    "version": 3
   },
   "file_extension": ".py",
   "mimetype": "text/x-python",
   "name": "python",
   "nbconvert_exporter": "python",
   "pygments_lexer": "ipython3",
   "version": "3.7.6"
  }
 },
 "nbformat": 4,
 "nbformat_minor": 4
}
