{
 "cells": [
  {
   "cell_type": "code",
   "execution_count": 7,
   "metadata": {},
   "outputs": [
    {
     "name": "stdout",
     "output_type": "stream",
     "text": [
      "[[5 0 3]\n",
      " [3 7 9]]\n",
      "somme\n",
      "[ 8  7 12]\n",
      "cumusom\n",
      "[ 5  5  8 11 18 27]\n",
      "produit\n",
      "[  0 189]\n",
      "\n",
      "[5 0 0 0 0 0]\n"
     ]
    }
   ],
   "source": [
    "import numpy as np\n",
    "\n",
    "np.random.seed(0)\n",
    "a = np.random.randint(0, 10, [2, 3])\n",
    "print(a)\n",
    "print(\"somme\")\n",
    "print(a.sum(axis=0))\n",
    "print(\"cumusom\")\n",
    "print(a.cumsum())\n",
    "print(\"produit\")\n",
    "print(a.prod(axis=1))\n",
    "print(\"cumuprod\")\n",
    "print(a.cumprod())"
   ]
  }
 ],
 "metadata": {
  "kernelspec": {
   "display_name": "Python 3",
   "language": "python",
   "name": "python3"
  },
  "language_info": {
   "codemirror_mode": {
    "name": "ipython",
    "version": 3
   },
   "file_extension": ".py",
   "mimetype": "text/x-python",
   "name": "python",
   "nbconvert_exporter": "python",
   "pygments_lexer": "ipython3",
   "version": "3.7.6"
  }
 },
 "nbformat": 4,
 "nbformat_minor": 4
}
