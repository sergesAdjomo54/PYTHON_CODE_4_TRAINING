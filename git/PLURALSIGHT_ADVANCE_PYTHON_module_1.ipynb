{
 "cells": [
  {
   "cell_type": "markdown",
   "metadata": {},
   "source": [
    "# ############ MODULE 1 PYTHON AVANCE ################ #"
   ]
  },
  {
   "cell_type": "code",
   "execution_count": 5,
   "metadata": {},
   "outputs": [
    {
     "name": "stdout",
     "output_type": "stream",
     "text": [
      "[2, 25, 36, 9] contains 36 which is a mutiple of 12\n"
     ]
    }
   ],
   "source": [
    "###############################################################################################################################\n",
    "#LE BLOC {WHILE....................ELSE} ET LE BLOC {FOR...........................ELSE}#################################\n",
    "##############################################################################################################################\n",
    "\n",
    "items = [2, 25, 36, 9]\n",
    "divisor = 12\n",
    "\n",
    "for item in items:\n",
    "    if item % divisor == 0:\n",
    "        found = item\n",
    "        break#en cas de break le le bloc{else} est survolé\n",
    "else: # si pas de break alors...\n",
    "    items.append(divisor)\n",
    "    print('enter else')\n",
    "    found = divisor\n",
    "    \n",
    "print(\"{items} contains {found} which is a mutiple of {divisor}\".format(**locals()))"
   ]
  },
  {
   "cell_type": "code",
   "execution_count": 8,
   "metadata": {},
   "outputs": [
    {
     "name": "stdout",
     "output_type": "stream",
     "text": [
      "[2, 25, 36, 9] contains 36 which is a mutiple of 12\n"
     ]
    }
   ],
   "source": [
    "###############################################################################################################################\n",
    "#LE BLOC {WHILE....................ELSE} ET LE BLOC {FOR...........................ELSE}#################################\n",
    "##############################################################################################################################\n",
    "\n",
    "items = [2, 25, 36, 9]\n",
    "divisor = 12\n",
    "\n",
    "while True :\n",
    "    if item % divisor == 0:\n",
    "        found = item\n",
    "        break#en cas de break le le bloc{else} est survolé\n",
    "else: # si pas de break alors...\n",
    "    items.append(divisor)\n",
    "    print('enter else')\n",
    "    found = divisor\n",
    "    \n",
    "print(\"{items} contains {found} which is a mutiple of {divisor}\".format(**locals()))\n",
    "\n"
   ]
  },
  {
   "cell_type": "code",
   "execution_count": null,
   "metadata": {},
   "outputs": [],
   "source": []
  },
  {
   "cell_type": "code",
   "execution_count": null,
   "metadata": {},
   "outputs": [],
   "source": []
  },
  {
   "cell_type": "code",
   "execution_count": null,
   "metadata": {},
   "outputs": [],
   "source": []
  },
  {
   "cell_type": "code",
   "execution_count": null,
   "metadata": {},
   "outputs": [],
   "source": []
  },
  {
   "cell_type": "code",
   "execution_count": null,
   "metadata": {},
   "outputs": [],
   "source": []
  },
  {
   "cell_type": "code",
   "execution_count": null,
   "metadata": {},
   "outputs": [],
   "source": []
  }
 ],
 "metadata": {
  "kernelspec": {
   "display_name": "Python 3",
   "language": "python",
   "name": "python3"
  },
  "language_info": {
   "codemirror_mode": {
    "name": "ipython",
    "version": 3
   },
   "file_extension": ".py",
   "mimetype": "text/x-python",
   "name": "python",
   "nbconvert_exporter": "python",
   "pygments_lexer": "ipython3",
   "version": "3.7.6"
  }
 },
 "nbformat": 4,
 "nbformat_minor": 4
}
