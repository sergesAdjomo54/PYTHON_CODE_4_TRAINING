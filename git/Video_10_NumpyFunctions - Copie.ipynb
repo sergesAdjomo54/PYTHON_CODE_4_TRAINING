{
 "cells": [
  {
   "cell_type": "code",
   "execution_count": 54,
   "metadata": {},
   "outputs": [
    {
     "name": "stdout",
     "output_type": "stream",
     "text": [
      "1\n",
      "<class 'numpy.ndarray'>\n",
      "<class 'tuple'>\n",
      "(10,)\n",
      "[ 0  1  4  9 16 25 36 49 64 81]\n"
     ]
    }
   ],
   "source": [
    "# numpy\n",
    "\n",
    "import numpy as np\n",
    "\n",
    "A = np.array([0, 1, 4, 9, 16, 25, 36, 49, 64, 81])#CREATION D'UN TABLEAU AVEC \"np.array\"\n",
    "print(A.ndim)\n",
    "print(type(A))\n",
    "print(type(A.shape))#UN SHAPE EST UN TUPLE\n",
    "print(A.shape)\n",
    "print(A)"
   ]
  },
  {
   "cell_type": "code",
   "execution_count": 60,
   "metadata": {},
   "outputs": [
    {
     "name": "stdout",
     "output_type": "stream",
     "text": [
      "2\n",
      "(3, 2)\n",
      "[[0. 0.]\n",
      " [0. 0.]\n",
      " [0. 0.]]\n"
     ]
    }
   ],
   "source": [
    "B = np.zeros((3, 2))\n",
    "print(B.ndim)\n",
    "print(B.shape)\n",
    "print(B)"
   ]
  },
  {
   "cell_type": "code",
   "execution_count": 12,
   "metadata": {},
   "outputs": [
    {
     "name": "stdout",
     "output_type": "stream",
     "text": [
      "2\n",
      "(3, 4)\n",
      "[[1. 1. 1. 1.]\n",
      " [1. 1. 1. 1.]\n",
      " [1. 1. 1. 1.]]\n",
      "12\n"
     ]
    }
   ],
   "source": [
    "C = np.ones((3, 4))#INITIALISE LE TABLEAU AVEC LES \"1\"\n",
    "print(C.ndim)\n",
    "print(C.shape)\n",
    "print(C)\n",
    "print(C.size)"
   ]
  },
  {
   "cell_type": "code",
   "execution_count": 22,
   "metadata": {},
   "outputs": [
    {
     "name": "stdout",
     "output_type": "stream",
     "text": [
      "1\n",
      "\n",
      "[[ 0  9 18]\n",
      " [ 0  9 18]]\n",
      "\n",
      "2\n",
      "(2, 3)\n",
      "[[9 9 9]\n",
      " [9 9 9]]\n",
      "6\n"
     ]
    }
   ],
   "source": [
    "#on crée un tableau 2 lignes 3 colones qu'on rempli avec le chiffre 9\n",
    "D = np.full((2, 3), 9)\n",
    "E = np.array([0, 1, 2])\n",
    "print(E.ndim)\n",
    "print()\n",
    "F = E * D\n",
    "print(F)\n",
    "print()\n",
    "print(D.ndim)#AFFICHE LA DIMENSION NB:une dimension == une ligne et non une colone\n",
    "print(D.shape)#AFFICHE LE NOMBRE E LIGNE ET DE COLONES\n",
    "print(D)\n",
    "print(D.size)"
   ]
  },
  {
   "cell_type": "code",
   "execution_count": 25,
   "metadata": {},
   "outputs": [
    {
     "name": "stdout",
     "output_type": "stream",
     "text": [
      "[[ 0.39879908 -0.66143965 -0.7221689   0.13017785]\n",
      " [-0.6271604   1.59826198 -0.66295093 -1.59988126]\n",
      " [ 1.63107377  2.02149484  0.41470486  0.3449375 ]]\n"
     ]
    }
   ],
   "source": [
    "#affiche un tableau de 3 ligne 4 colones avec la distribution aléatoire des des nombre de part et d'autre de \"0\"\n",
    "#ceci grace a la fonction \"random.randn\"\n",
    "G = np.random.randn(3, 4)\n",
    "print(G)\n",
    "#np.random.seed(0)"
   ]
  },
  {
   "cell_type": "code",
   "execution_count": 31,
   "metadata": {},
   "outputs": [
    {
     "name": "stdout",
     "output_type": "stream",
     "text": [
      "[[1. 0. 0. 0.]\n",
      " [0. 1. 0. 0.]\n",
      " [0. 0. 1. 0.]\n",
      " [0. 0. 0. 1.]]\n",
      "2\n"
     ]
    }
   ],
   "source": [
    "#CREE UN MATRICE IDENTITE\n",
    "H = np.eye(4)\n",
    "print(H)\n",
    "print(H.ndim)"
   ]
  },
  {
   "cell_type": "code",
   "execution_count": 64,
   "metadata": {},
   "outputs": [
    {
     "name": "stdout",
     "output_type": "stream",
     "text": [
      "[ 0.          0.52631579  1.05263158  1.57894737  2.10526316  2.63157895\n",
      "  3.15789474  3.68421053  4.21052632  4.73684211  5.26315789  5.78947368\n",
      "  6.31578947  6.84210526  7.36842105  7.89473684  8.42105263  8.94736842\n",
      "  9.47368421 10.        ]\n",
      "1\n"
     ]
    }
   ],
   "source": [
    "#CREE une matrice a une dimension dans lequel on precise le nombre d'éléments,debut et fin puis la quantité qu'on veut\n",
    "I = np.linspace(0, 10, 20)\n",
    "print(I)\n",
    "print(I.ndim)"
   ]
  },
  {
   "cell_type": "code",
   "execution_count": 69,
   "metadata": {},
   "outputs": [
    {
     "name": "stdout",
     "output_type": "stream",
     "text": [
      "[ 0  1  2  3  4  5  6  7  8  9 10 11 12 13 14 15 16 17 18 19 20 21 22 23\n",
      " 24 25 26 27 28 29 30 31 32 33 34 35 36 37 38 39 40 41 42 43 44 45 46 47\n",
      " 48 49]\n",
      "1\n"
     ]
    },
    {
     "ename": "NameError",
     "evalue": "name 'shape' is not defined",
     "output_type": "error",
     "traceback": [
      "\u001b[1;31m---------------------------------------------------------------------------\u001b[0m",
      "\u001b[1;31mNameError\u001b[0m                                 Traceback (most recent call last)",
      "\u001b[1;32m<ipython-input-69-d4493032e334>\u001b[0m in \u001b[0;36m<module>\u001b[1;34m\u001b[0m\n\u001b[0;32m      3\u001b[0m \u001b[0mprint\u001b[0m\u001b[1;33m(\u001b[0m\u001b[0mK\u001b[0m\u001b[1;33m)\u001b[0m\u001b[1;33m\u001b[0m\u001b[1;33m\u001b[0m\u001b[0m\n\u001b[0;32m      4\u001b[0m \u001b[0mprint\u001b[0m\u001b[1;33m(\u001b[0m\u001b[0mK\u001b[0m\u001b[1;33m.\u001b[0m\u001b[0mndim\u001b[0m\u001b[1;33m)\u001b[0m\u001b[1;33m\u001b[0m\u001b[1;33m\u001b[0m\u001b[0m\n\u001b[1;32m----> 5\u001b[1;33m \u001b[0mprint\u001b[0m\u001b[1;33m(\u001b[0m\u001b[0mshape\u001b[0m\u001b[1;33m(\u001b[0m\u001b[1;36m10\u001b[0m\u001b[1;33m,\u001b[0m \u001b[1;36m5\u001b[0m\u001b[1;33m)\u001b[0m\u001b[1;33m)\u001b[0m\u001b[1;33m\u001b[0m\u001b[1;33m\u001b[0m\u001b[0m\n\u001b[0m",
      "\u001b[1;31mNameError\u001b[0m: name 'shape' is not defined"
     ]
    }
   ],
   "source": [
    "#CREE une matrice a une dimension donnant l'intervalle où des nombres voulu puis le \"pas\"\n",
    "K = np.arange(0, 50, 1)\n",
    "print(K)\n",
    "print(K.ndim)"
   ]
  },
  {
   "cell_type": "code",
   "execution_count": 33,
   "metadata": {},
   "outputs": [
    {
     "name": "stdout",
     "output_type": "stream",
     "text": [
      "[ 0.      0.5264  1.053   1.579   2.105   2.63    3.158   3.684   4.21\n",
      "  4.74    5.26    5.79    6.316   6.844   7.367   7.895   8.42    8.945\n",
      "  9.48   10.    ]\n",
      "1\n"
     ]
    }
   ],
   "source": [
    "#QUELQUE soit la fonction choisie on peut utiliser un \"4e\" le <<dtype>> pour donner la precision sur la taille du nbr\n",
    "I = np.linspace(0, 10, 20, dtype = np.float16 )\n",
    "print(I)\n",
    "print(I.ndim)"
   ]
  },
  {
   "cell_type": "markdown",
   "metadata": {},
   "source": [
    "# MANIPULATION\n"
   ]
  },
  {
   "cell_type": "code",
   "execution_count": 44,
   "metadata": {},
   "outputs": [
    {
     "name": "stdout",
     "output_type": "stream",
     "text": [
      "(3, 4)\n",
      "\n",
      "[[0. 0.]\n",
      " [0. 0.]\n",
      " [0. 0.]]\n",
      "\n",
      "[[1. 1.]\n",
      " [1. 1.]\n",
      " [1. 1.]]\n",
      "\n",
      "[[0. 0. 1. 1.]\n",
      " [0. 0. 1. 1.]\n",
      " [0. 0. 1. 1.]]\n"
     ]
    }
   ],
   "source": [
    "#ON PEUT CONCATENER 2 TABLEAUX PAR ------------COLONE------------ avec \n",
    "#<<np.hstack((matricA,matriceB))>> == np.concatenate((matricA,matriceB), axis = 0)\n",
    "\n",
    "mat1 = np.zeros((3, 2))\n",
    "mat2 = np.ones((3, 2))\n",
    "L = np.hstack((mat1, mat2))\n",
    "print(L.shape)\n",
    "print()\n",
    "print(mat1)\n",
    "print()\n",
    "print(mat2)\n",
    "print()\n",
    "print(L)"
   ]
  },
  {
   "cell_type": "code",
   "execution_count": 43,
   "metadata": {},
   "outputs": [
    {
     "name": "stdout",
     "output_type": "stream",
     "text": [
      "(6, 2)\n",
      "\n",
      "[[0. 0.]\n",
      " [0. 0.]\n",
      " [0. 0.]]\n",
      "\n",
      "[[1. 1.]\n",
      " [1. 1.]\n",
      " [1. 1.]]\n",
      "\n",
      "[[0. 0.]\n",
      " [0. 0.]\n",
      " [0. 0.]\n",
      " [1. 1.]\n",
      " [1. 1.]\n",
      " [1. 1.]]\n"
     ]
    }
   ],
   "source": [
    "#ON PEUT CONCATENER 2 TABLEAUX PAR ----COLONE-------- avec \n",
    "#<<np.vstack((matricA,matriceB))>> == np.concatenate((matricA,matriceB), axis = 1)\n",
    "\n",
    "mat1 = np.zeros((3, 2))\n",
    "mat2 = np.ones((3, 2))\n",
    "M = np.vstack((mat1, mat2))\n",
    "print(M.shape)\n",
    "print()\n",
    "print(mat1)\n",
    "print()\n",
    "print(mat2)\n",
    "print()\n",
    "print(M)"
   ]
  },
  {
   "cell_type": "code",
   "execution_count": 45,
   "metadata": {},
   "outputs": [
    {
     "name": "stdout",
     "output_type": "stream",
     "text": [
      "[[0. 0.]\n",
      " [0. 0.]\n",
      " [0. 0.]\n",
      " [1. 1.]\n",
      " [1. 1.]\n",
      " [1. 1.]]\n",
      "\n",
      "[[0. 0. 1. 1.]\n",
      " [0. 0. 1. 1.]\n",
      " [0. 0. 1. 1.]]\n"
     ]
    }
   ],
   "source": [
    "#AVEC <<np.concatenate((mat1, mat2), axis=0) -->\"0\" pour concatener vers l'axe des 'x' et -->\"1\" pour l'axe des 'y'\n",
    "\n",
    "N = np.concatenate((mat1, mat2), axis = 0)\n",
    "O = np.concatenate((mat1, mat2), axis = 1)\n",
    "print(N)\n",
    "print()\n",
    "print(O)"
   ]
  },
  {
   "cell_type": "code",
   "execution_count": 50,
   "metadata": {},
   "outputs": [
    {
     "name": "stdout",
     "output_type": "stream",
     "text": [
      "(3, 4)\n",
      "[[0. 0. 1. 1.]\n",
      " [0. 0. 1. 1.]\n",
      " [0. 0. 1. 1.]]\n",
      "\n",
      "[[0. 0.]\n",
      " [1. 1.]\n",
      " [0. 0.]\n",
      " [1. 1.]\n",
      " [0. 0.]\n",
      " [1. 1.]]\n",
      "\n",
      "[[0. 0. 1.]\n",
      " [1. 0. 0.]\n",
      " [1. 1. 0.]\n",
      " [0. 1. 1.]]\n"
     ]
    }
   ],
   "source": [
    "#<<np.reshape((3, 4)) change une matrice M1(3,4) en M1'(6, 2) a condition que le M.size ne change pas (nb elements)\n",
    "\n",
    "print(np.shape(O))\n",
    "print(O)\n",
    "print()\n",
    "P = O.reshape((6, 2))\n",
    "print(P)\n",
    "print()\n",
    "print(O.reshape((4, 3)))"
   ]
  },
  {
   "cell_type": "code",
   "execution_count": 52,
   "metadata": {},
   "outputs": [
    {
     "name": "stdout",
     "output_type": "stream",
     "text": [
      "[[0. 0. 1. 1.]\n",
      " [0. 0. 1. 1.]\n",
      " [0. 0. 1. 1.]]\n",
      "\n",
      "[0. 0. 1. 1. 0. 0. 1. 1. 0. 0. 1. 1.]\n"
     ]
    }
   ],
   "source": [
    "#la methode ravel qui applatit une matrice et nous donne une seule ligne\n",
    "\n",
    "Q = O.reshape((3, 4))\n",
    "print(Q)\n",
    "print()\n",
    "Q = Q.ravel()\n",
    "print(Q)"
   ]
  },
  {
   "cell_type": "code",
   "execution_count": null,
   "metadata": {},
   "outputs": [],
   "source": []
  }
 ],
 "metadata": {
  "kernelspec": {
   "display_name": "Python 3",
   "language": "python",
   "name": "python3"
  },
  "language_info": {
   "codemirror_mode": {
    "name": "ipython",
    "version": 3
   },
   "file_extension": ".py",
   "mimetype": "text/x-python",
   "name": "python",
   "nbconvert_exporter": "python",
   "pygments_lexer": "ipython3",
   "version": "3.7.6"
  }
 },
 "nbformat": 4,
 "nbformat_minor": 4
}
