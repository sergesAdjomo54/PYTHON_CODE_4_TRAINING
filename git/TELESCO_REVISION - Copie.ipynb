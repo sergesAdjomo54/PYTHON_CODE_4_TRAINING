{
 "cells": [
  {
   "cell_type": "markdown",
   "metadata": {},
   "source": [
    "# ################REVISION PYTHON #####################TELESCO#######################################################"
   ]
  },
  {
   "cell_type": "code",
   "execution_count": 20,
   "metadata": {},
   "outputs": [
    {
     "name": "stdout",
     "output_type": "stream",
     "text": [
      "[ 1  3  4 12]\n",
      "[10  3  4 12]\n",
      "\n",
      "34604374336\n",
      "34604374336\n",
      "[10  3  4 12]\n",
      "[10  3  4 12]\n",
      "\n",
      "34604374336\n",
      "34572216344\n",
      "[10  3  4 12]\n",
      "<built-in method view of numpy.ndarray object at 0x000000080E94D940>\n",
      "\n",
      "34604374336\n",
      "34604394896\n",
      "[10  3  4 12]\n",
      "[10  3  4 12]\n"
     ]
    }
   ],
   "source": [
    "from numpy import *\n",
    "\n",
    "####Avec les structure de donnée {Array()} on préciser le type de donnée ensuite il devient impossible d'inserer un type autre\n",
    "\n",
    "arr1 = array([1, 12, 3, 4], int)\n",
    "#arr2 = array([1, 2, 3, 4], float)\n",
    "arr1.sort()\n",
    "print(arr1)\n",
    "print(arr2)\n",
    "\n",
    "#ici la copie est faite tel que: meme adresse memoire les modificatin de l'un affecte l'autre\n",
    "print()\n",
    "arr2 = arr1\n",
    "arr1[0] = 10\n",
    "print(id(arr1))\n",
    "print(id(arr2))\n",
    "print(arr1)\n",
    "print(arr2)\n",
    "#ici la copie est faite tel que: l'adresse est différent mais les modification affecte l'autre\n",
    "print()\n",
    "arr2 = arr1.view\n",
    "arr1[0] = 10\n",
    "print(id(arr1))\n",
    "print(id(arr2))\n",
    "print(arr1)\n",
    "print(arr2)\n",
    "#ici la copie est faite tel que: l'adresse est différente mais les modif de l'un n'affectent pas l'autre\n",
    "print()\n",
    "arr2 = arr1.copy()\n",
    "arr1[0] = 10\n",
    "print(id(arr1))\n",
    "print(id(arr2))\n",
    "print(arr1)\n",
    "print(arr2)"
   ]
  },
  {
   "cell_type": "code",
   "execution_count": 23,
   "metadata": {},
   "outputs": [
    {
     "name": "stdout",
     "output_type": "stream",
     "text": [
      "34604303504\n",
      "34604191056\n",
      "[10 12  3  4]\n",
      "[ 1 12  3  4]\n"
     ]
    }
   ],
   "source": [
    "#ici la copie est faite tel que: l'adresse est différente mais les modif de l'un n'affectent pas l'autre\n",
    "\n",
    "arr1 = array([1, 12, 3, 4], int)\n",
    "arr2 = array([1, 2, 3, 4], float)\n",
    "arr2 = arr1.copy()\n",
    "arr1[0] = 10\n",
    "print(id(arr1))\n",
    "print(id(arr2))\n",
    "print(arr1)\n",
    "print(arr2)"
   ]
  },
  {
   "cell_type": "code",
   "execution_count": 29,
   "metadata": {},
   "outputs": [
    {
     "name": "stdout",
     "output_type": "stream",
     "text": [
      "[ 27  46 177]\n"
     ]
    }
   ],
   "source": [
    "m = matrix('1 2 8; 1 2 5; 7 8 9')\n",
    "m1 = matrix('1 0 8; 1 3 5; 3 8 9')\n",
    "\n",
    "m2 = m * m1\n",
    "print(diagonal(m2))\n"
   ]
  },
  {
   "cell_type": "code",
   "execution_count": null,
   "metadata": {},
   "outputs": [],
   "source": [
    "##################FONCTION LAMBDA ################## REVISION FONCTION LAMBDA"
   ]
  },
  {
   "cell_type": "code",
   "execution_count": 4,
   "metadata": {},
   "outputs": [
    {
     "name": "stdout",
     "output_type": "stream",
     "text": [
      "[4, 12, 16, 8, 12, 4]\n",
      "56\n"
     ]
    }
   ],
   "source": [
    "from functools import reduce\n",
    "\n",
    "#def add_all(a, b): ### L'équivalent de la fonction {lambda} sera lambda a,b: a+b\n",
    "    #return a+b\n",
    "\n",
    "    \n",
    "\"\"\"{filter(func, iterable)} prend ne entrée un tuple et retourne un tuple\"\"\"\n",
    "\"\"\"{map(func, iterable)} prend en entrée un dict et retourne un dict\"\"\"\n",
    "\"\"\"{reduce(func, sequence)} prend une sequence et retourne une sequence\"\"\"\n",
    "\n",
    "    \n",
    "nums = [3, 2, 6, 8, 4, 6, 2, 9]\n",
    "\n",
    "evens = list(filter(lambda n : n%2==0, nums))#il prend chaque élément du tableau {nums} pour appliquer la fonction lambda dessus\n",
    "\n",
    "doubles = list(map(lambda n : n*2, evens))\n",
    "print(doubles)\n",
    "sum = reduce(lambda a,b: a+b, doubles)\n",
    "\n",
    "print(sum)"
   ]
  },
  {
   "cell_type": "code",
   "execution_count": 6,
   "metadata": {},
   "outputs": [],
   "source": [
    "############################# DECORATOR ################### DECORATOR"
   ]
  },
  {
   "cell_type": "code",
   "execution_count": 8,
   "metadata": {},
   "outputs": [
    {
     "name": "stdout",
     "output_type": "stream",
     "text": [
      "2.0\n"
     ]
    }
   ],
   "source": [
    "def div(a, b):\n",
    "    print(a/b)\n",
    "    \n",
    "\n",
    "    \n",
    "def smart_div(func):\n",
    "    \n",
    "    def inner(a, b):\n",
    "        if a < b:\n",
    "            a,b = b,a\n",
    "            return func(a,b)\n",
    "    return inner\n",
    "\n",
    "div = smart_div(div)\n",
    "\n",
    "div(2, 4)\n",
    "    \n",
    "    \n",
    "    \n",
    "    "
   ]
  },
  {
   "cell_type": "code",
   "execution_count": 5,
   "metadata": {},
   "outputs": [],
   "source": []
  },
  {
   "cell_type": "code",
   "execution_count": null,
   "metadata": {},
   "outputs": [],
   "source": []
  }
 ],
 "metadata": {
  "kernelspec": {
   "display_name": "Python 3",
   "language": "python",
   "name": "python3"
  },
  "language_info": {
   "codemirror_mode": {
    "name": "ipython",
    "version": 3
   },
   "file_extension": ".py",
   "mimetype": "text/x-python",
   "name": "python",
   "nbconvert_exporter": "python",
   "pygments_lexer": "ipython3",
   "version": "3.7.6"
  }
 },
 "nbformat": 4,
 "nbformat_minor": 4
}
