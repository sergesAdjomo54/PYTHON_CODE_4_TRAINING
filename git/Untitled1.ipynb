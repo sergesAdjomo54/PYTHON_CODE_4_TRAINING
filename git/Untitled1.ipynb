{
 "cells": [
  {
   "cell_type": "code",
   "execution_count": 16,
   "metadata": {},
   "outputs": [
    {
     "name": "stdout",
     "output_type": "stream",
     "text": [
      "1\n",
      "<class 'numpy.ndarray'>\n",
      "<class 'tuple'>\n",
      "(10,)\n",
      "[ 0  1  4  9 16 25 36 49 64 81]\n"
     ]
    }
   ],
   "source": [
    "import numpy as np\n",
    "\n",
    "A = np.array([0, 1, 4, 9, 16, 25, 36, 49, 64, 81])#CREATION D'UN TABLEAU \"np.array\"\n",
    "print(A.ndim)\n",
    "print(type(A))\n",
    "print(type(A.shape))#\n",
    "print(A.shape)\n",
    "print(A)"
   ]
  },
  {
   "cell_type": "code",
   "execution_count": 6,
   "metadata": {},
   "outputs": [
    {
     "name": "stdout",
     "output_type": "stream",
     "text": [
      "2\n",
      "[[0. 0.]\n",
      " [0. 0.]\n",
      " [0. 0.]]\n"
     ]
    }
   ],
   "source": [
    "B = np.zeros((3, 2))\n",
    "print(B.ndim)\n",
    "print(B.shape)\n",
    "print(B)"
   ]
  },
  {
   "cell_type": "code",
   "execution_count": 12,
   "metadata": {},
   "outputs": [
    {
     "name": "stdout",
     "output_type": "stream",
     "text": [
      "2\n",
      "(3, 4)\n",
      "[[1. 1. 1. 1.]\n",
      " [1. 1. 1. 1.]\n",
      " [1. 1. 1. 1.]]\n",
      "12\n"
     ]
    }
   ],
   "source": [
    "C = np.ones((3, 4))#INITIALISE LE TABLEAU AVEC LES \"1\"\n",
    "print(C.ndim)\n",
    "print(C.shape)\n",
    "print(C)\n",
    "print(C.size)"
   ]
  },
  {
   "cell_type": "code",
   "execution_count": 13,
   "metadata": {},
   "outputs": [
    {
     "name": "stdout",
     "output_type": "stream",
     "text": [
      "2\n",
      "(2, 3)\n",
      "[[9 9 9]\n",
      " [9 9 9]]\n",
      "6\n"
     ]
    }
   ],
   "source": [
    "#on crée un tableau 2 lignes 3 colones qu'on rempli avec le chiffre 9\n",
    "D = np.full((2, 3), 9)\n",
    "print(D.ndim)#AFFICHE LA DIMENSION NB:une dimension == une ligne et non une colone\n",
    "print(D.shape)#AFFICHE LE NOMBRE E LIGNE ET DE COLONES\n",
    "print(D)\n",
    "print(D.size)"
   ]
  },
  {
   "cell_type": "code",
   "execution_count": null,
   "metadata": {},
   "outputs": [],
   "source": []
  }
 ],
 "metadata": {
  "kernelspec": {
   "display_name": "Python 3",
   "language": "python",
   "name": "python3"
  },
  "language_info": {
   "codemirror_mode": {
    "name": "ipython",
    "version": 3
   },
   "file_extension": ".py",
   "mimetype": "text/x-python",
   "name": "python",
   "nbconvert_exporter": "python",
   "pygments_lexer": "ipython3",
   "version": "3.7.6"
  }
 },
 "nbformat": 4,
 "nbformat_minor": 4
}
