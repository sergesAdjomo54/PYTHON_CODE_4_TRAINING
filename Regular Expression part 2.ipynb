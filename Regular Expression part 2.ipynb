{
 "cells": [
  {
   "cell_type": "markdown",
   "metadata": {},
   "source": [
    "# re.findall"
   ]
  },
  {
   "cell_type": "code",
   "execution_count": 1,
   "metadata": {},
   "outputs": [
    {
     "data": {
      "text/plain": [
       "['n', 'a', 'a']"
      ]
     },
     "execution_count": 1,
     "metadata": {},
     "output_type": "execute_result"
    }
   ],
   "source": [
    "import re\n",
    "re.findall('n|a', \"bcdefnc abcda\")"
   ]
  },
  {
   "cell_type": "code",
   "execution_count": 2,
   "metadata": {},
   "outputs": [
    {
     "data": {
      "text/plain": [
       "<re.Match object; span=(0, 4), match='abcd'>"
      ]
     },
     "execution_count": 2,
     "metadata": {},
     "output_type": "execute_result"
    }
   ],
   "source": [
    "re.search('abcd', \"abcdefnc abcd\")"
   ]
  },
  {
   "cell_type": "markdown",
   "metadata": {},
   "source": [
    "# \\w"
   ]
  },
  {
   "cell_type": "code",
   "execution_count": 3,
   "metadata": {},
   "outputs": [
    {
     "name": "stdout",
     "output_type": "stream",
     "text": [
      "<re.Match object; span=(0, 13), match='abcdefnc abcd'> \n",
      " <re.Match object; span=(0, 4), match='ab_c'>\n",
      "<re.Match object; span=(4, 5), match='%'>\n"
     ]
    }
   ],
   "source": [
    "# \\w signifie tous les caratere alpha-numerique et underscore[a-zA-Z0-9_]\n",
    "a = re.search('\\w\\w\\w\\w.+', 'abcdefnc abcd')\n",
    "b = re.search('\\w\\w\\w\\w', 'ab_cdefnc abcd')\n",
    "\n",
    "# \\W signifie son contraire donc tous les caractère qui sont pas dans[a-zA-Z0-9_] \n",
    "c = re.search('\\W|\\W', 'ab_c%defnc abcd')\n",
    "print(a,'\\n',b)\n",
    "print(c)"
   ]
  },
  {
   "cell_type": "code",
   "execution_count": 4,
   "metadata": {},
   "outputs": [
    {
     "data": {
      "text/plain": [
       "<re.Match object; span=(0, 1), match='1'>"
      ]
     },
     "execution_count": 4,
     "metadata": {},
     "output_type": "execute_result"
    }
   ],
   "source": [
    "re.search('.?', '15.%*')"
   ]
  },
  {
   "cell_type": "code",
   "execution_count": 5,
   "metadata": {},
   "outputs": [],
   "source": [
    "## Quantifiers\n",
    "#\n",
    "#'+' = 1 or more\n",
    "#'?' = 0 or 1\n",
    "#'*' = 0 or more\n",
    "#'{n,m}' = n to m repetitions ... {,3}, {4,}"
   ]
  },
  {
   "cell_type": "code",
   "execution_count": 6,
   "metadata": {},
   "outputs": [
    {
     "data": {
      "text/plain": [
       "<re.Match object; span=(0, 8), match='abcdefnc'>"
      ]
     },
     "execution_count": 6,
     "metadata": {},
     "output_type": "execute_result"
    }
   ],
   "source": [
    "b = re.search('\\w+', 'abcdefnc abcd')\n",
    "b"
   ]
  },
  {
   "cell_type": "code",
   "execution_count": 7,
   "metadata": {},
   "outputs": [
    {
     "name": "stdout",
     "output_type": "stream",
     "text": [
      "<re.Match object; span=(0, 23), match='abcdefnc           abcd'>\n",
      "<re.Match object; span=(0, 14), match='ab_cdefnc abcd'>\n",
      "None\n"
     ]
    }
   ],
   "source": [
    "a = re.search('\\w+\\W+\\w+', 'abcdefnc           abcd')\n",
    "b = re.search('\\w+\\W?\\w+', 'ab_cdefnc abcd')\n",
    "c = re.search('\\w+\\W+\\w+', 'abcdefncabcd')\n",
    "print(a)\n",
    "print(b)\n",
    "print(c)"
   ]
  },
  {
   "cell_type": "code",
   "execution_count": 8,
   "metadata": {},
   "outputs": [
    {
     "name": "stdout",
     "output_type": "stream",
     "text": [
      "<re.Match object; span=(0, 3), match='aaa'>\n",
      "<re.Match object; span=(0, 13), match='abcdefnc abcd'>\n",
      "abcdefnc abcd\n"
     ]
    }
   ],
   "source": [
    "a = re.search('\\w{3}', 'aaaaaaaaaaa')\n",
    "b = re.search('\\w{1,10}\\W{0,4}\\w+', 'abcdefnc abcd')\n",
    "c = re.search('\\w{1,}\\W{0,}\\w+', 'abcdefnc abcd').group()\n",
    "print(a)\n",
    "print(b)\n",
    "print(c)"
   ]
  },
  {
   "cell_type": "markdown",
   "metadata": {},
   "source": [
    "# other types of characters sets"
   ]
  },
  {
   "cell_type": "code",
   "execution_count": 9,
   "metadata": {},
   "outputs": [
    {
     "ename": "SyntaxError",
     "evalue": "invalid syntax (<ipython-input-9-80f5b84d0004>, line 1)",
     "output_type": "error",
     "traceback": [
      "\u001b[1;36m  File \u001b[1;32m\"<ipython-input-9-80f5b84d0004>\"\u001b[1;36m, line \u001b[1;32m1\u001b[0m\n\u001b[1;33m    '\\d' = matches digits [0 -9]\u001b[0m\n\u001b[1;37m                        ^\u001b[0m\n\u001b[1;31mSyntaxError\u001b[0m\u001b[1;31m:\u001b[0m invalid syntax\n"
     ]
    }
   ],
   "source": [
    "'\\d' = matches digits [0 -9]\n",
    "'\\D' = matches this matches any non-digit character ~\\d"
   ]
  },
  {
   "cell_type": "code",
   "execution_count": null,
   "metadata": {},
   "outputs": [],
   "source": [
    "string = '23abcded++'\n",
    "re.search('\\d+', string).group()"
   ]
  },
  {
   "cell_type": "code",
   "execution_count": null,
   "metadata": {},
   "outputs": [],
   "source": [
    "'\\s' = matches any whitespace character #new line, space, etc\n",
    "'\\S' = matches any non-whitespace chracter # ~\\s"
   ]
  },
  {
   "cell_type": "code",
   "execution_count": null,
   "metadata": {},
   "outputs": [],
   "source": [
    "string = '23abcded++'\n",
    "re.search('\\S+', string).group()"
   ]
  },
  {
   "cell_type": "code",
   "execution_count": null,
   "metadata": {},
   "outputs": [],
   "source": [
    "string = \"\"\"creation d'un dossier\n",
    ">mkdir 'nom du dossier'\n",
    "on se positionne sur le dossier\n",
    ">cd 'nom du dossier'\n",
    "on initialise comme étant un depot git\n",
    ">git init\n",
    "on cree le ou les fichier ou alors copy/paste dans le dossier cree\n",
    "ensuite on liste pour voir si les dossier sont bien présent\n",
    ">ls\n",
    "verifie s'ils sont déjà commité/envoyés\n",
    ">git status\n",
    "on ajoute donc le/les fichier qu'on veut commiter\n",
    ">git add -A \n",
    "ou encore\n",
    ">git add 'nom du fichier'\n",
    "on verifie qu'il sont ajoutés\n",
    ">git status\n",
    "on envoi les fichier/ commiter\n",
    ">git commit -m \"Message Descriptif\"\n",
    "\n",
    "\n",
    "**Ensuite on ouvre github sur le navigateur\n",
    "1--on clique sur le bouton '+' pour creer le meme dossier dans\n",
    "le cloud les 2 folder doivent avoir le meme nom\n",
    "2--clique sur new repository\n",
    "3--on donne le nom du dossier (identique a celui cree avec mkdir)\n",
    "4--on donne la description\n",
    "5--on clique sur create repository\n",
    "\n",
    "**Ensuite on rentre dans l'invite de commande\n",
    "pour copier cela dans le cloud\n",
    "1--on ajoute le lien du dossier cloud\n",
    ">> git remote add origin https://github.com/sergesAdjomo54/PyText_Editor.git\n",
    "2--on push/copie du local vers cloud\n",
    "> git push -u origin master\n",
    "\n",
    "\"\"\""
   ]
  },
  {
   "cell_type": "code",
   "execution_count": null,
   "metadata": {},
   "outputs": [],
   "source": [
    "b=re.findall('\\S+', string)  #print whole text in list"
   ]
  },
  {
   "cell_type": "code",
   "execution_count": null,
   "metadata": {},
   "outputs": [],
   "source": [
    "b=' '.join(re.findall('\\S+', string))  #print entire text original format"
   ]
  },
  {
   "cell_type": "code",
   "execution_count": null,
   "metadata": {},
   "outputs": [],
   "source": [
    "b = re.search('.+', string).group() #no new line"
   ]
  },
  {
   "cell_type": "code",
   "execution_count": null,
   "metadata": {},
   "outputs": [],
   "source": [
    "# print whole text with new line\n",
    "re.search('.+', string, flags = re.DOTALL).group() "
   ]
  },
  {
   "cell_type": "code",
   "execution_count": null,
   "metadata": {},
   "outputs": [],
   "source": [
    "string = \"\"\"je refais le decor avec mon son comme picasso\\nje suis un maitre d'art\n",
    "donc je donne des coups de grace\\na tous ces faux rappeur\n",
    "qui chantent pour le buzz\"\"\"\n",
    "\n",
    "re.search('.+', string, flags=re.DOTALL).group().strip()"
   ]
  },
  {
   "cell_type": "markdown",
   "metadata": {},
   "source": [
    "# Creating your own character sets"
   ]
  },
  {
   "cell_type": "code",
   "execution_count": null,
   "metadata": {},
   "outputs": [],
   "source": [
    "[A-Z] '-' is a metacharacter when used in [] (custom chrater sets)"
   ]
  },
  {
   "cell_type": "code",
   "execution_count": null,
   "metadata": {},
   "outputs": [],
   "source": [
    "string = 'Hello, There, How, Are, You'\n",
    "re.findall('[A-Z]', string)  #pulls out all capital letters"
   ]
  },
  {
   "cell_type": "code",
   "execution_count": null,
   "metadata": {},
   "outputs": [],
   "source": [
    "re.findall('[A-Z,]+', string)  #any capital letter or coma"
   ]
  },
  {
   "cell_type": "code",
   "execution_count": null,
   "metadata": {},
   "outputs": [],
   "source": [
    "# ^ when inside bracket mean none of choosen pattern [^A-Za-z\\s,]\n",
    "re.search('[^A-Za-z\\s,]+', string).group() # '^'negation symbol"
   ]
  },
  {
   "cell_type": "markdown",
   "metadata": {},
   "source": [
    "# GROUP"
   ]
  },
  {
   "cell_type": "code",
   "execution_count": null,
   "metadata": {},
   "outputs": [],
   "source": [
    "# () = metacharacter....The use of bracket denote group\n",
    "re.findall('([A-Za-z]+) \\w+ \\d+ \\w+', string)"
   ]
  },
  {
   "cell_type": "code",
   "execution_count": 10,
   "metadata": {},
   "outputs": [
    {
     "data": {
      "text/plain": [
       "[('John', 'Susan', 'Mike'), ('6', '3', '8'), ('cats', 'dogs', 'fishes')]"
      ]
     },
     "execution_count": 10,
     "metadata": {},
     "output_type": "execute_result"
    }
   ],
   "source": [
    "info = [('John', '6', 'cats'),('Susan', '3', 'dogs'),('Mike', '8', 'fishes')]\n",
    "list(zip(*info))# classe indice entre eux"
   ]
  },
  {
   "cell_type": "markdown",
   "metadata": {},
   "source": [
    "# re.finditer"
   ]
  },
  {
   "cell_type": "code",
   "execution_count": 11,
   "metadata": {},
   "outputs": [],
   "source": [
    "string = \"John has 6 cats but I think my firend Susan has 3 dogs and Mike has 8 fishes\""
   ]
  },
  {
   "cell_type": "code",
   "execution_count": 12,
   "metadata": {},
   "outputs": [
    {
     "data": {
      "text/plain": [
       "'John has 6 cats but I think my firend Susan has 3 dogs and Mike has 8 fishes'"
      ]
     },
     "execution_count": 12,
     "metadata": {},
     "output_type": "execute_result"
    }
   ],
   "source": [
    "string"
   ]
  },
  {
   "cell_type": "code",
   "execution_count": 17,
   "metadata": {},
   "outputs": [
    {
     "data": {
      "text/plain": [
       "'John has 6 cats'"
      ]
     },
     "execution_count": 17,
     "metadata": {},
     "output_type": "execute_result"
    }
   ],
   "source": [
    "it = re.finditer('([A-Za-z]+) \\w+ (\\d+) (\\w+)', string)\n",
    "\n",
    "next(it).group()"
   ]
  },
  {
   "cell_type": "code",
   "execution_count": 14,
   "metadata": {},
   "outputs": [
    {
     "name": "stdout",
     "output_type": "stream",
     "text": [
      "('John', '6', 'cats')\n",
      "('Susan', '3', 'dogs')\n",
      "('Mike', '8', 'fishes')\n"
     ]
    }
   ],
   "source": [
    "for element in it:\n",
    "    print(element.group(1,2,3))"
   ]
  },
  {
   "cell_type": "code",
   "execution_count": null,
   "metadata": {},
   "outputs": [],
   "source": []
  }
 ],
 "metadata": {
  "kernelspec": {
   "display_name": "Python 3",
   "language": "python",
   "name": "python3"
  },
  "language_info": {
   "codemirror_mode": {
    "name": "ipython",
    "version": 3
   },
   "file_extension": ".py",
   "mimetype": "text/x-python",
   "name": "python",
   "nbconvert_exporter": "python",
   "pygments_lexer": "ipython3",
   "version": "3.7.6"
  }
 },
 "nbformat": 4,
 "nbformat_minor": 4
}
