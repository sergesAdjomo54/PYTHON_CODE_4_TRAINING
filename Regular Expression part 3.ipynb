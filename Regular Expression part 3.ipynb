{
 "cells": [
  {
   "cell_type": "markdown",
   "metadata": {},
   "source": [
    "# Namming Group's"
   ]
  },
  {
   "cell_type": "code",
   "execution_count": 18,
   "metadata": {},
   "outputs": [],
   "source": [
    "import re\n",
    "string = 'New York, New York 11369'"
   ]
  },
  {
   "cell_type": "code",
   "execution_count": 6,
   "metadata": {},
   "outputs": [],
   "source": [
    "pattern = re.compile('(?P<City>[A-Za-z\\s]+), (?P<Town>[A-Za-z\\s]+) (?P<ZipCode>\\d+)')"
   ]
  },
  {
   "cell_type": "code",
   "execution_count": 13,
   "metadata": {},
   "outputs": [],
   "source": [
    "match = re.search(pattern, string)"
   ]
  },
  {
   "cell_type": "code",
   "execution_count": null,
   "metadata": {},
   "outputs": [],
   "source": []
  },
  {
   "cell_type": "code",
   "execution_count": 17,
   "metadata": {},
   "outputs": [
    {
     "data": {
      "text/plain": [
       "('New York', 'New York', '11369')"
      ]
     },
     "execution_count": 17,
     "metadata": {},
     "output_type": "execute_result"
    }
   ],
   "source": [
    "match.group('City'),match.group('Town'),match.group('ZipCode')"
   ]
  },
  {
   "cell_type": "code",
   "execution_count": 19,
   "metadata": {},
   "outputs": [
    {
     "data": {
      "text/plain": [
       "('New York', 'New York', '11369')"
      ]
     },
     "execution_count": 19,
     "metadata": {},
     "output_type": "execute_result"
    }
   ],
   "source": [
    "match.groups()"
   ]
  },
  {
   "cell_type": "code",
   "execution_count": 20,
   "metadata": {},
   "outputs": [
    {
     "data": {
      "text/plain": [
       "{'City': 'New York', 'Town': 'New York', 'ZipCode': '11369'}"
      ]
     },
     "execution_count": 20,
     "metadata": {},
     "output_type": "execute_result"
    }
   ],
   "source": [
    "match.groupdict()"
   ]
  },
  {
   "cell_type": "markdown",
   "metadata": {},
   "source": [
    "# Quantifiers on Group"
   ]
  },
  {
   "cell_type": "code",
   "execution_count": 24,
   "metadata": {},
   "outputs": [
    {
     "name": "stdout",
     "output_type": "stream",
     "text": [
      "<re.Match object; span=(0, 6), match='ababab'> \n",
      " <re.Match object; span=(0, 11), match='abababbbbbb'>\n"
     ]
    }
   ],
   "source": [
    "string = 'abababbbbbb'\n",
    "\n",
    "a = re.search('(ab)+', string)\n",
    "b = re.search('[ab]+', string) #this different\n",
    "\n",
    "print(a,'\\n',b)\n"
   ]
  },
  {
   "cell_type": "code",
   "execution_count": 29,
   "metadata": {},
   "outputs": [
    {
     "name": "stdout",
     "output_type": "stream",
     "text": [
      "a =  ['4', '9'] \n",
      "b =  [('1234', '4'), ('56789', '9')] \n",
      "c =  56789\n"
     ]
    }
   ],
   "source": [
    "string = ' 1234 56789'\n",
    "\n",
    "a = re.findall('(\\d)+', string) ##affiche la valeur a indice maximal\n",
    "\n",
    "b = re.findall('((\\d)+)', string)## indice maximal et toutes lesautres valeurs\n",
    "\n",
    "c = re.findall('((\\d)+)', string)[1][0]## avec le slicing\n",
    "\n",
    "print('a = ',a,'\\nb = ',b,'\\nc = ',c)"
   ]
  },
  {
   "cell_type": "markdown",
   "metadata": {},
   "source": [
    "# Groups for word completion"
   ]
  },
  {
   "cell_type": "code",
   "execution_count": 30,
   "metadata": {
    "scrolled": false
   },
   "outputs": [
    {
     "name": "stdout",
     "output_type": "stream",
     "text": [
      "a =  <re.Match object; span=(0, 14), match='Happy Birthday'> \n",
      "b =  <re.Match object; span=(0, 15), match='Happy Valentine'>\n"
     ]
    }
   ],
   "source": [
    "a = re.search('Happy (Valentine|Birthday|Anniversary)', 'Happy Birthday')\n",
    "\n",
    "b = re.search('Happy (Valentine|Birthday|Anniversary)', 'Happy Valentine')\n",
    "\n",
    "print('a = ',a,'\\nb = ',b)"
   ]
  },
  {
   "cell_type": "code",
   "execution_count": null,
   "metadata": {},
   "outputs": [],
   "source": []
  },
  {
   "cell_type": "code",
   "execution_count": null,
   "metadata": {},
   "outputs": [],
   "source": []
  }
 ],
 "metadata": {
  "kernelspec": {
   "display_name": "Python 3",
   "language": "python",
   "name": "python3"
  },
  "language_info": {
   "codemirror_mode": {
    "name": "ipython",
    "version": 3
   },
   "file_extension": ".py",
   "mimetype": "text/x-python",
   "name": "python",
   "nbconvert_exporter": "python",
   "pygments_lexer": "ipython3",
   "version": "3.7.6"
  }
 },
 "nbformat": 4,
 "nbformat_minor": 4
}
