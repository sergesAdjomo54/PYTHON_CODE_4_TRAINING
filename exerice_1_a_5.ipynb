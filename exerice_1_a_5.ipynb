{
 "cells": [
  {
   "cell_type": "code",
   "execution_count": 11,
   "metadata": {},
   "outputs": [
    {
     "name": "stdout",
     "output_type": "stream",
     "text": [
      "Enter your name please: serges ango\n",
      "WELCOME: serges ango\n"
     ]
    }
   ],
   "source": [
    "name = input(\"Enter your name please: \")\n",
    "print(\"WELCOME: {}\".format(name))"
   ]
  },
  {
   "cell_type": "code",
   "execution_count": 17,
   "metadata": {},
   "outputs": [
    {
     "name": "stdout",
     "output_type": "stream",
     "text": [
      "Enter your first number:45\n",
      "Enter your second number:2656\n",
      "\n",
      "The max value is:  2656\n"
     ]
    }
   ],
   "source": [
    "a = int(input(\"Enter your first number:\" ))\n",
    "b = int(input(\"Enter your second number:\" ))\n",
    "print()\n",
    "if a > b:\n",
    "    print(\"The max value is: \", a)\n",
    "else:\n",
    "    print(\"The max value is: \", b)\n"
   ]
  },
  {
   "cell_type": "code",
   "execution_count": 20,
   "metadata": {},
   "outputs": [
    {
     "name": "stdout",
     "output_type": "stream",
     "text": [
      "Enter a number please: 11\n",
      "\n",
      "The number you enter is unenven.\n"
     ]
    }
   ],
   "source": [
    "a = int(input(\"Enter a number please: \"))\n",
    "print()\n",
    "if a%2 == 0:\n",
    "    print(\"The number you enter is even.\")\n",
    "else:\n",
    "    print(\"The number you enter is unenven.\")"
   ]
  },
  {
   "cell_type": "code",
   "execution_count": 25,
   "metadata": {},
   "outputs": [
    {
     "name": "stdout",
     "output_type": "stream",
     "text": [
      "Enter a number please: 5\n",
      "The sum of numbers lowers than 5 is: 15\n"
     ]
    }
   ],
   "source": [
    "n = int(input(\"Enter a number please: \"))\n",
    "res = 0\n",
    "i = 1\n",
    "while i <= n:\n",
    "    res += i \n",
    "    i+=1\n",
    "    \n",
    "    \n",
    "print(\"The sum of numbers lowers than {} is: {}\".format(n, res))"
   ]
  },
  {
   "cell_type": "code",
   "execution_count": null,
   "metadata": {},
   "outputs": [],
   "source": [
    "n = int(input(\"Please enter a number:\"))\n",
    "\n",
    "fact = 1\n",
    "i = 1\n",
    "if n < 2:\n",
    "    pass\n",
    "else:\n",
    "    while i <= n:\n",
    "        fact = fact * i\n",
    "        i+=1\n",
    "    \n",
    "\n",
    "print(\"The factorial of {} is {}: \".format(n, fact))"
   ]
  }
 ],
 "metadata": {
  "kernelspec": {
   "display_name": "Python 3",
   "language": "python",
   "name": "python3"
  },
  "language_info": {
   "codemirror_mode": {
    "name": "ipython",
    "version": 3
   },
   "file_extension": ".py",
   "mimetype": "text/x-python",
   "name": "python",
   "nbconvert_exporter": "python",
   "pygments_lexer": "ipython3",
   "version": "3.7.6"
  }
 },
 "nbformat": 4,
 "nbformat_minor": 4
}
